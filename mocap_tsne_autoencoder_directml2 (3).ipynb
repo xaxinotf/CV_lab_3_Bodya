{
  "cells": [
    {
      "cell_type": "code",
      "execution_count": null,
      "metadata": {
        "id": "OVAdgMoRi6si"
      },
      "outputs": [],
      "source": [
        "################################################\n",
        "### using filtered data"
      ]
    },
    {
      "cell_type": "code",
      "execution_count": 4,
      "metadata": {
        "colab": {
          "base_uri": "https://localhost:8080/",
          "height": 180
        },
        "id": "LyUj_oZqi6sm",
        "outputId": "92d21141-5656-41fb-9045-025062590251"
      },
      "outputs": [
        {
          "output_type": "error",
          "ename": "FileNotFoundError",
          "evalue": "[Errno 2] No such file or directory: 'shaped.pickle'",
          "traceback": [
            "\u001b[0;31m---------------------------------------------------------------------------\u001b[0m",
            "\u001b[0;31mFileNotFoundError\u001b[0m                         Traceback (most recent call last)",
            "\u001b[0;32m<ipython-input-4-7b9ef40dac48>\u001b[0m in \u001b[0;36m<cell line: 0>\u001b[0;34m()\u001b[0m\n\u001b[1;32m      1\u001b[0m \u001b[0;32mimport\u001b[0m \u001b[0mpickle\u001b[0m\u001b[0;34m\u001b[0m\u001b[0;34m\u001b[0m\u001b[0m\n\u001b[0;32m----> 2\u001b[0;31m \u001b[0;32mwith\u001b[0m \u001b[0mopen\u001b[0m\u001b[0;34m(\u001b[0m\u001b[0;34m'shaped.pickle'\u001b[0m\u001b[0;34m,\u001b[0m \u001b[0;34m'rb'\u001b[0m\u001b[0;34m)\u001b[0m \u001b[0;32mas\u001b[0m \u001b[0mf\u001b[0m\u001b[0;34m:\u001b[0m\u001b[0;34m\u001b[0m\u001b[0;34m\u001b[0m\u001b[0m\n\u001b[0m\u001b[1;32m      3\u001b[0m     \u001b[0mab\u001b[0m \u001b[0;34m=\u001b[0m \u001b[0mpickle\u001b[0m\u001b[0;34m.\u001b[0m\u001b[0mload\u001b[0m\u001b[0;34m(\u001b[0m\u001b[0mf\u001b[0m\u001b[0;34m)\u001b[0m\u001b[0;34m\u001b[0m\u001b[0;34m\u001b[0m\u001b[0m\n",
            "\u001b[0;31mFileNotFoundError\u001b[0m: [Errno 2] No such file or directory: 'shaped.pickle'"
          ]
        }
      ],
      "source": [
        "import pickle\n",
        "with open('shaped.pickle', 'rb') as f:\n",
        "    ab = pickle.load(f)"
      ]
    },
    {
      "cell_type": "markdown",
      "source": [
        "# Новий розділ"
      ],
      "metadata": {
        "id": "5ZIhw49BjkJR"
      }
    },
    {
      "cell_type": "code",
      "source": [
        "from google.colab import drive\n",
        "drive.mount('/content/drive')"
      ],
      "metadata": {
        "id": "OC1DWztdjcpJ"
      },
      "execution_count": null,
      "outputs": []
    },
    {
      "cell_type": "code",
      "execution_count": null,
      "metadata": {
        "id": "slx70xjxi6sn",
        "outputId": "effd2e2d-4c8c-4732-8fb2-0644657badf3"
      },
      "outputs": [
        {
          "data": {
            "text/plain": [
              "(297, 1200)"
            ]
          },
          "execution_count": 89,
          "metadata": {},
          "output_type": "execute_result"
        }
      ],
      "source": [
        "ab.shape"
      ]
    },
    {
      "cell_type": "code",
      "execution_count": null,
      "metadata": {
        "id": "VCrarOqZi6so"
      },
      "outputs": [],
      "source": [
        "from sklearn import model_selection, preprocessing, linear_model, naive_bayes, metrics, svm\n",
        "#from sklearn.feature_extraction.text import TfidfVectorizer, CountVectorizer\n",
        "from sklearn import decomposition, ensemble\n",
        "\n",
        "import numpy #,  string #pandas, xgboost, textblob,\n",
        "#from tensorflow.keras.preprocessing import text, sequence\n",
        "from tensorflow.keras import layers, models, optimizers"
      ]
    },
    {
      "cell_type": "code",
      "execution_count": null,
      "metadata": {
        "id": "FINs3Y7pi6sp",
        "outputId": "6df54803-7f4e-43a1-d9a8-52a930a2eed1"
      },
      "outputs": [
        {
          "data": {
            "text/plain": [
              "'2.10.0'"
            ]
          },
          "execution_count": 4,
          "metadata": {},
          "output_type": "execute_result"
        }
      ],
      "source": [
        "import tensorflow as tf\n",
        "tf. __version__"
      ]
    },
    {
      "cell_type": "code",
      "execution_count": null,
      "metadata": {
        "id": "knzBAADPi6sp"
      },
      "outputs": [],
      "source": [
        "# Define models:\n",
        "\n",
        "def train_model(classifier, feature_vector_train, label, feature_vector_valid, is_neural_net=False):\n",
        "    # fit the training dataset on the classifier\n",
        "    classifier.fit(feature_vector_train, label)\n",
        "\n",
        "    # predict the labels on validation dataset\n",
        "    predictions = classifier.predict(feature_vector_valid)\n",
        "\n",
        "    if is_neural_net:\n",
        "        predictions = predictions.argmax(axis=-1)\n",
        "\n",
        "    return metrics.accuracy_score(predictions, valid_y)\n",
        "\n",
        "def train_model2(classifier, feature_vector_train, label, feature_vector_valid, valid_Y, is_neural_net=False):\n",
        "    # fit the training dataset on the classifier\n",
        "    classifier.fit(feature_vector_train, label)\n",
        "\n",
        "    # predict the labels on validation dataset\n",
        "    predictions = classifier.predict(feature_vector_valid)\n",
        "\n",
        "    if is_neural_net:\n",
        "        predictions = predictions.argmax(axis=-1)\n",
        "\n",
        "    return metrics.accuracy_score(predictions, valid_Y)"
      ]
    },
    {
      "cell_type": "code",
      "execution_count": null,
      "metadata": {
        "id": "yAfQ7puBi6sq"
      },
      "outputs": [],
      "source": [
        "from sklearn.decomposition import PCA\n",
        "from sklearn.decomposition import TruncatedSVD\n",
        "import numpy as np\n",
        "from scipy.sparse import csr_matrix\n",
        "\n",
        "from sklearn.manifold import TSNE\n",
        "from sklearn.cluster import KMeans\n",
        "import time\n",
        "import warnings\n",
        "\n",
        "import matplotlib.pyplot as plt\n",
        "\n",
        "from sklearn import cluster, datasets, mixture\n",
        "from sklearn.neighbors import kneighbors_graph\n",
        "from sklearn.preprocessing import StandardScaler\n",
        "from itertools import cycle, islice\n",
        "\n",
        "import scipy"
      ]
    },
    {
      "cell_type": "code",
      "execution_count": null,
      "metadata": {
        "id": "GwncsoKci6sr"
      },
      "outputs": [],
      "source": [
        "y_ = np.ones(len(ab))"
      ]
    },
    {
      "cell_type": "code",
      "execution_count": null,
      "metadata": {
        "id": "BaSBlmubi6sr",
        "outputId": "462283e9-8d9b-4dbf-e223-102fa6f22433"
      },
      "outputs": [
        {
          "data": {
            "text/plain": [
              "0.018004417419433594"
            ]
          },
          "execution_count": 92,
          "metadata": {},
          "output_type": "execute_result"
        }
      ],
      "source": [
        "start_time = time.time()\n",
        "#a = np.reshape(np.array(tempvar),(297*20,60))\n",
        "\n",
        "#base parameters\n",
        "default_base = {'quantile': .3,\n",
        "                'eps': .3,\n",
        "                'damping': .9,\n",
        "                'preference': -200,\n",
        "                'n_neighbors': 10, #maybe more\n",
        "                'n_clusters': 4, #3 is actual number\n",
        "                'min_samples': 20,\n",
        "                'xi': 0.05,\n",
        "                'min_cluster_size': 0.1}\n",
        "\n",
        "params = default_base.copy()\n",
        "\n",
        "pca = TruncatedSVD(n_components=10)\n",
        "pca.fit(ab)\n",
        "#csr_matrix(\n",
        "transformed_ = pca.transform(ab)\n",
        "end_time = time.time()\n",
        "end_time-start_time"
      ]
    },
    {
      "cell_type": "code",
      "execution_count": null,
      "metadata": {
        "id": "GvJ3CMz1i6ss"
      },
      "outputs": [],
      "source": [
        "#X_embedded2 = X_embedded"
      ]
    },
    {
      "cell_type": "code",
      "execution_count": null,
      "metadata": {
        "id": "ti2G5fm3i6ss"
      },
      "outputs": [],
      "source": [
        "#X_embedded = transformed_"
      ]
    },
    {
      "cell_type": "code",
      "execution_count": null,
      "metadata": {
        "id": "rPIffDu_i6ss",
        "outputId": "4a19a5eb-49c5-4a62-94a8-794bbb1f2d90"
      },
      "outputs": [
        {
          "data": {
            "text/plain": [
              "0.0"
            ]
          },
          "execution_count": 94,
          "metadata": {},
          "output_type": "execute_result"
        }
      ],
      "source": [
        "start_time = time.time()\n",
        "#X_embedded = TSNE(n_components=2).fit_transform(transformed_)\n",
        "X_embedded = transformed_\n",
        "end_time = time.time()\n",
        "end_time-start_time"
      ]
    },
    {
      "cell_type": "code",
      "execution_count": null,
      "metadata": {
        "id": "lXmggtVdi6st"
      },
      "outputs": [],
      "source": [
        "# ============\n",
        "# Create cluster objects\n",
        "# ============\n",
        "\n",
        "\n",
        "\n",
        "two_means = cluster.MiniBatchKMeans(n_clusters=params['n_clusters'])\n",
        "\n",
        "clustering_algorithms = (\n",
        "        ('MBatchKMeans', two_means),\n",
        ")\n",
        "\n",
        "plot_num = 1"
      ]
    },
    {
      "cell_type": "code",
      "execution_count": null,
      "metadata": {
        "scrolled": true,
        "id": "i0CkOfswi6st",
        "outputId": "2ffb337e-70e2-4837-a493-8f2a10ff8ba2"
      },
      "outputs": [
        {
          "data": {
            "text/plain": [
              "0.11658287048339844"
            ]
          },
          "execution_count": 96,
          "metadata": {},
          "output_type": "execute_result"
        },
        {
          "data": {
            "image/png": "[encoded data removed]",
            "text/plain": [
              "<Figure size 640x480 with 1 Axes>"
            ]
          },
          "metadata": {},
          "output_type": "display_data"
        }
      ],
      "source": [
        "for name, algorithm in clustering_algorithms:\n",
        "\n",
        "        t0 = time.time()\n",
        "\n",
        "        # catch warnings related to kneighbors_graph\n",
        "        with warnings.catch_warnings():\n",
        "            warnings.filterwarnings(\n",
        "                \"ignore\",\n",
        "                message=\"the number of connected components of the \" +\n",
        "                \"connectivity matrix is [0-9]{1,2}\" +\n",
        "                \" > 1. Completing it to avoid stopping the tree early.\",\n",
        "                category=UserWarning)\n",
        "            warnings.filterwarnings(\n",
        "                \"ignore\",\n",
        "                message=\"Graph is not fully connected, spectral embedding\" +\n",
        "                \" may not work as expected.\",\n",
        "                category=UserWarning)\n",
        "            algorithm.fit(X_embedded)\n",
        "\n",
        "\n",
        "\n",
        "        t1 = time.time()\n",
        "\n",
        "        if hasattr(algorithm, 'labels_'):\n",
        "            y_pred = algorithm.labels_.astype(int)\n",
        "        else:\n",
        "            y_pred = algorithm.predict(X_embedded)\n",
        "\n",
        "        plt.subplot(1, len(clustering_algorithms), plot_num)\n",
        "\n",
        "        colors = np.array(list(islice(cycle(['#377eb8', '#ff7f00', '#4daf4a',\n",
        "                                             '#f781bf', '#a65628', '#984ea3',\n",
        "                                             '#999999', '#e41a1c', '#dede00']),\n",
        "                                      int(max(y_pred) + 1))))\n",
        "        # add black color for outliers (if any)\n",
        "        colors = np.append(colors, [\"#000000\"])\n",
        "\n",
        "\n",
        "        plt.scatter(X_embedded[:, 0], X_embedded[:, 1], s=2, color=colors[y_pred])\n",
        "\n",
        "        plt.xlim(-2.5, 2.5)\n",
        "        plt.ylim(-2.5, 2.5)\n",
        "        plt.xticks(())\n",
        "        plt.yticks(())\n",
        "\n",
        "        plot_num += 1\n",
        "\n",
        "        # stop, plot only one image\n",
        "        break\n",
        "\n",
        "#plt.show()\n",
        "t1-t0"
      ]
    },
    {
      "cell_type": "code",
      "execution_count": null,
      "metadata": {
        "id": "I7Owfj0Qi6st",
        "outputId": "dad0c58e-0c4e-4a5d-82e8-07558917d572"
      },
      "outputs": [
        {
          "data": {
            "image/png": "[encoded data removed]",
            "text/plain": [
              "<Figure size 600x600 with 2 Axes>"
            ]
          },
          "metadata": {},
          "output_type": "display_data"
        }
      ],
      "source": [
        "colors = np.array(list(islice(cycle(['#377eb8', '#ff7f00', '#4daf4a',\n",
        "                                             '#f781bf', '#a65628', '#984ea3',\n",
        "                                             '#999999', '#e41a1c', '#dede00']), int(max(y_pred) + 1))))\n",
        "\n",
        "plt.figure(figsize=(6, 6))\n",
        "plt.scatter(X_embedded[:, 0], X_embedded[:, 1], s=2, c=colors[y_pred])\n",
        "plt.colorbar()\n",
        "plt.show()"
      ]
    },
    {
      "cell_type": "code",
      "execution_count": null,
      "metadata": {
        "id": "SnBb2R2mi6su",
        "outputId": "629e3b95-1da5-41e9-ddd1-f46f17effecb"
      },
      "outputs": [
        {
          "data": {
            "text/plain": [
              "(297,)"
            ]
          },
          "execution_count": 14,
          "metadata": {},
          "output_type": "execute_result"
        }
      ],
      "source": [
        "y_pred.shape"
      ]
    },
    {
      "cell_type": "code",
      "execution_count": null,
      "metadata": {
        "id": "xa46Vk3Ui6su"
      },
      "outputs": [],
      "source": [
        "#optional classifiers to choose\n",
        "from sklearn.naive_bayes import MultinomialNB\n",
        "from sklearn.linear_model import LogisticRegression\n",
        "from sklearn.ensemble import RandomForestClassifier\n",
        "from sklearn.svm import LinearSVC\n",
        "from sklearn.neural_network import MLPClassifier\n",
        "from sklearn.neighbors import KNeighborsClassifier\n",
        "from sklearn.svm import SVC\n",
        "from sklearn.gaussian_process import GaussianProcessClassifier\n",
        "from sklearn.gaussian_process.kernels import RBF\n",
        "from sklearn.tree import DecisionTreeClassifier\n",
        "from sklearn.ensemble import RandomForestClassifier, AdaBoostClassifier\n",
        "from sklearn.naive_bayes import GaussianNB\n",
        "from sklearn.discriminant_analysis import QuadraticDiscriminantAnalysis\n",
        "from sklearn.model_selection import cross_val_score\n",
        "import matplotlib.pyplot as plt\n",
        "#import seaborn as sns"
      ]
    },
    {
      "cell_type": "code",
      "execution_count": null,
      "metadata": {
        "id": "VgQKR2tPi6su"
      },
      "outputs": [],
      "source": [
        "# ab (297x1200)!"
      ]
    },
    {
      "cell_type": "code",
      "execution_count": null,
      "metadata": {
        "id": "lI2HsX6ri6su",
        "outputId": "fe9a4105-d34a-4477-adaf-467738fa4563"
      },
      "outputs": [
        {
          "data": {
            "text/plain": [
              "0.0010006427764892578"
            ]
          },
          "execution_count": 98,
          "metadata": {},
          "output_type": "execute_result"
        }
      ],
      "source": [
        "start_time = time.time()\n",
        "train_x, valid_x, train_y, valid_y = model_selection.train_test_split(X_embedded, y_pred)\n",
        "end_time = time.time()\n",
        "end_time-start_time"
      ]
    },
    {
      "cell_type": "code",
      "execution_count": null,
      "metadata": {
        "id": "-VE5h4XSi6sv"
      },
      "outputs": [],
      "source": [
        "import numpy as np\n",
        "#import pandas as pd\n",
        "import os\n",
        "\n",
        "import tensorflow as tf\n",
        "#import tensorflow_addons as tfa #none\n",
        "from tensorflow.keras import layers\n",
        "\n",
        "import matplotlib.pyplot as plt\n",
        "from IPython import display\n",
        "from IPython.display import clear_output\n",
        "\n",
        "import glob\n",
        "#import imageio\n",
        "import time\n",
        "import IPython.display as ipd\n",
        "\n",
        "#AUTOTUNE = tf.data.experimental.AUTOTUNE"
      ]
    },
    {
      "cell_type": "code",
      "execution_count": null,
      "metadata": {
        "id": "XalkKf_6i6sv"
      },
      "outputs": [],
      "source": [
        "# Shallow Neural Networks\n",
        "# model nx100xn\n",
        "\n",
        "import numpy as np\n",
        "import scipy.sparse\n",
        "import tensorflow as tf\n",
        "\n",
        "import tensorflow.keras\n",
        "from tensorflow.keras import layers\n",
        "from tensorflow.keras import regularizers"
      ]
    },
    {
      "cell_type": "code",
      "execution_count": null,
      "metadata": {
        "id": "9nCoLZd7i6sv"
      },
      "outputs": [],
      "source": [
        "import tensorflow.keras as keras\n",
        "from tensorflow.keras import backend as K"
      ]
    },
    {
      "cell_type": "code",
      "execution_count": null,
      "metadata": {
        "id": "M9H0QwSvi6sv"
      },
      "outputs": [],
      "source": [
        "from tensorflow.keras.layers import Input, Dense, Flatten, Reshape\n",
        "from tensorflow.keras.models import Model"
      ]
    },
    {
      "cell_type": "code",
      "execution_count": null,
      "metadata": {
        "id": "wsHtvAYji6sv"
      },
      "outputs": [],
      "source": [
        "def create_dense_ae():\n",
        "    # Розмірність кодованого простору\n",
        "    hidden_dim = 60\n",
        "    encoding_dim = 2\n",
        "\n",
        "    # Кодувальник\n",
        "    input = Input(shape=(10*1, )) # 10*1,  - розмірність вхідного шару\n",
        "    # Додатковий шар для кодування вхідного представлення\n",
        "    flat = Flatten()(input)\n",
        "\n",
        "    hidden = Dense(hidden_dim, activation='relu')(flat)\n",
        "    hidden2 = Dense(hidden_dim, activation='relu')(hidden)\n",
        "    # Приховане подання кодувальника\n",
        "    encoded = Dense(encoding_dim, activation='relu')(hidden2)\n",
        "\n",
        "    # Декодувальник\n",
        "    # Аналогічним чином, але послідовність шарів протилежна кодувальнику\n",
        "    input_encoded = Input(shape=(encoding_dim,))\n",
        "    hidden_encoded = Dense(hidden_dim, activation='sigmoid')(input_encoded)\n",
        "    hidden_encoded2 = Dense(hidden_dim, activation='sigmoid')(hidden_encoded)\n",
        "\n",
        "    flat_decoded = Dense(10*1, activation='sigmoid')(hidden_encoded2)\n",
        "    decoded = Reshape((10*1, ))(flat_decoded)\n",
        "\n",
        "    # Таким чином можна подати окремо модель як для кодувальника так і декодувальника\n",
        "    # Або подавати шари окермо\n",
        "    encoder = Model(input, encoded, name=\"encoder\")\n",
        "    decoder = Model(input_encoded, decoded, name=\"decoder\")\n",
        "    autoencoder = Model(input, decoder(encoder(input)), name=\"autoencoder\")\n",
        "    return encoder, decoder, autoencoder"
      ]
    },
    {
      "cell_type": "code",
      "execution_count": null,
      "metadata": {
        "id": "HPKG2myHi6sw"
      },
      "outputs": [],
      "source": [
        "# перелік наявних пристроїв (у випадку TF-DML)"
      ]
    },
    {
      "cell_type": "code",
      "execution_count": null,
      "metadata": {
        "id": "saf7akn4i6sw",
        "outputId": "320c7392-f94f-4ea6-b1a6-ac7aa107fe8b"
      },
      "outputs": [
        {
          "data": {
            "text/plain": [
              "[PhysicalDevice(name='/physical_device:CPU:0', device_type='CPU'),\n",
              " PhysicalDevice(name='/physical_device:GPU:0', device_type='GPU')]"
            ]
          },
          "execution_count": 101,
          "metadata": {},
          "output_type": "execute_result"
        }
      ],
      "source": [
        "tf.config.list_physical_devices()"
      ]
    },
    {
      "cell_type": "code",
      "execution_count": null,
      "metadata": {
        "id": "hkWK0oU2i6sw"
      },
      "outputs": [],
      "source": [
        "with tf.device(\"/device:GPU:0\"): # /device:DML:0 для версії 1.15\n",
        "    encoder, decoder, autoencoder = create_dense_ae()\n",
        "    autoencoder.compile(optimizer='adam', loss='binary_crossentropy', metrics=[\"accuracy\"])"
      ]
    },
    {
      "cell_type": "code",
      "execution_count": null,
      "metadata": {
        "id": "UAcbw9_gi6sx"
      },
      "outputs": [],
      "source": [
        "# якщо все гаразд, у консолі Conda має бути подібний текст:\n",
        "# tensorflow/c/logging.cc:34] DirectML: creating device on adapter 0 (___ім'я вашої відеокарти___)\n",
        "# tensorflow/c/logging.cc:34] Successfully opened dynamic library Kernel32.dll\n",
        "# tensorflow/core/common_runtime/pluggable_device/pluggable_device_factory.cc:272]\n",
        "# Created TensorFlow device (/job:localhost/replica:0/task:0/device:GPU:0 with XXXX MB memory) -> physical PluggableDevice (device: 0, name: DML, pci bus id: <undefined>)\n",
        "\n",
        "# зазвичай обсяг пам'яті може бути вищим через віртуальну пам'ять системи, наприклад 8192 замість 4096 МB, якщо відеокарта на 4096 MB"
      ]
    },
    {
      "cell_type": "code",
      "execution_count": null,
      "metadata": {
        "id": "gJN7vhp2i6sx"
      },
      "outputs": [],
      "source": [
        "# якщо немає відеокарти як такої (наприклад, якщо є процесор з ARM архітектурою без виділеного відеоядра), можливо написати і так:"
      ]
    },
    {
      "cell_type": "code",
      "execution_count": null,
      "metadata": {
        "id": "E6tOBZiBi6sx"
      },
      "outputs": [],
      "source": [
        "#with tf.device(\"/device:CPU:0\"):\n",
        "#    encoder, decoder, autoencoder = create_dense_ae()\n",
        "#    autoencoder.compile(optimizer='adam', loss='binary_crossentropy', metrics=[\"accuracy\"])"
      ]
    },
    {
      "cell_type": "code",
      "execution_count": null,
      "metadata": {
        "id": "dG2g1TKoi6sx",
        "outputId": "a79e9e94-42d6-4863-e6c8-09639412fb68"
      },
      "outputs": [
        {
          "name": "stdout",
          "output_type": "stream",
          "text": [
            "Model: \"autoencoder\"\n",
            "_________________________________________________________________\n",
            " Layer (type)                Output Shape              Param #   \n",
            "=================================================================\n",
            " input_21 (InputLayer)       [(None, 10)]              0         \n",
            "                                                                 \n",
            " encoder (Functional)        (None, 2)                 4442      \n",
            "                                                                 \n",
            " decoder (Functional)        (None, 10)                4450      \n",
            "                                                                 \n",
            "=================================================================\n",
            "Total params: 8,892\n",
            "Trainable params: 8,892\n",
            "Non-trainable params: 0\n",
            "_________________________________________________________________\n"
          ]
        }
      ],
      "source": [
        "autoencoder.summary()"
      ]
    },
    {
      "cell_type": "code",
      "execution_count": null,
      "metadata": {
        "id": "QrCIdlz2i6sy",
        "outputId": "4908162e-43fa-4c85-ae2f-6bacf507d016"
      },
      "outputs": [
        {
          "name": "stdout",
          "output_type": "stream",
          "text": [
            "Epoch 1/500\n",
            "5/5 [==============================] - 1s 85ms/step - loss: 0.3767 - accuracy: 0.2252 - val_loss: 0.1493 - val_accuracy: 0.2400\n",
            "Epoch 2/500\n",
            "5/5 [==============================] - 0s 31ms/step - loss: 0.1659 - accuracy: 0.4279 - val_loss: -0.0860 - val_accuracy: 0.5067\n",
            "Epoch 3/500\n",
            "5/5 [==============================] - 0s 27ms/step - loss: -0.0530 - accuracy: 0.4640 - val_loss: -0.3182 - val_accuracy: 0.5067\n",
            "Epoch 4/500\n",
            "5/5 [==============================] - 0s 27ms/step - loss: -0.2592 - accuracy: 0.4640 - val_loss: -0.5571 - val_accuracy: 0.5067\n",
            "Epoch 5/500\n",
            "5/5 [==============================] - 0s 26ms/step - loss: -0.4717 - accuracy: 0.4640 - val_loss: -0.7948 - val_accuracy: 0.5067\n",
            "Epoch 6/500\n",
            "5/5 [==============================] - 0s 27ms/step - loss: -0.6835 - accuracy: 0.4640 - val_loss: -1.0295 - val_accuracy: 0.5067\n",
            "Epoch 7/500\n",
            "5/5 [==============================] - 0s 25ms/step - loss: -0.8959 - accuracy: 0.4640 - val_loss: -1.2636 - val_accuracy: 0.5067\n",
            "Epoch 8/500\n",
            "5/5 [==============================] - 0s 27ms/step - loss: -1.1111 - accuracy: 0.4640 - val_loss: -1.4941 - val_accuracy: 0.5067\n",
            "Epoch 9/500\n",
            "5/5 [==============================] - 0s 21ms/step - loss: -1.3263 - accuracy: 0.4640 - val_loss: -1.7189 - val_accuracy: 0.5067\n",
            "Epoch 10/500\n",
            "5/5 [==============================] - 0s 21ms/step - loss: -1.5342 - accuracy: 0.4640 - val_loss: -1.9393 - val_accuracy: 0.5333\n",
            "Epoch 11/500\n",
            "5/5 [==============================] - 0s 22ms/step - loss: -1.7390 - accuracy: 0.5721 - val_loss: -2.1553 - val_accuracy: 0.7200\n",
            "Epoch 12/500\n",
            "5/5 [==============================] - 0s 21ms/step - loss: -1.9392 - accuracy: 0.6351 - val_loss: -2.3710 - val_accuracy: 0.7200\n",
            "Epoch 13/500\n",
            "5/5 [==============================] - 0s 23ms/step - loss: -2.1470 - accuracy: 0.6441 - val_loss: -2.5828 - val_accuracy: 0.7200\n",
            "Epoch 14/500\n",
            "5/5 [==============================] - 0s 21ms/step - loss: -2.3460 - accuracy: 0.6441 - val_loss: -2.7951 - val_accuracy: 0.7200\n",
            "Epoch 15/500\n",
            "5/5 [==============================] - 0s 20ms/step - loss: -2.5474 - accuracy: 0.6441 - val_loss: -3.0120 - val_accuracy: 0.7200\n",
            "Epoch 16/500\n",
            "5/5 [==============================] - 0s 21ms/step - loss: -2.7525 - accuracy: 0.6441 - val_loss: -3.2239 - val_accuracy: 0.7200\n",
            "Epoch 17/500\n",
            "5/5 [==============================] - 0s 22ms/step - loss: -2.9576 - accuracy: 0.6441 - val_loss: -3.4417 - val_accuracy: 0.7200\n",
            "Epoch 18/500\n",
            "5/5 [==============================] - 0s 21ms/step - loss: -3.1668 - accuracy: 0.6441 - val_loss: -3.6602 - val_accuracy: 0.7200\n",
            "Epoch 19/500\n",
            "5/5 [==============================] - 0s 22ms/step - loss: -3.3773 - accuracy: 0.6441 - val_loss: -3.8854 - val_accuracy: 0.7200\n",
            "Epoch 20/500\n",
            "5/5 [==============================] - 0s 21ms/step - loss: -3.5889 - accuracy: 0.6441 - val_loss: -4.1122 - val_accuracy: 0.7200\n",
            "Epoch 21/500\n",
            "5/5 [==============================] - 0s 20ms/step - loss: -3.8059 - accuracy: 0.6441 - val_loss: -4.3397 - val_accuracy: 0.7200\n",
            "Epoch 22/500\n",
            "5/5 [==============================] - 0s 21ms/step - loss: -4.0214 - accuracy: 0.6441 - val_loss: -4.5667 - val_accuracy: 0.7200\n",
            "Epoch 23/500\n",
            "5/5 [==============================] - 0s 20ms/step - loss: -4.2384 - accuracy: 0.6441 - val_loss: -4.7905 - val_accuracy: 0.7200\n",
            "Epoch 24/500\n",
            "5/5 [==============================] - 0s 19ms/step - loss: -4.4517 - accuracy: 0.6441 - val_loss: -5.0148 - val_accuracy: 0.7200\n",
            "Epoch 25/500\n",
            "5/5 [==============================] - 0s 21ms/step - loss: -4.6634 - accuracy: 0.6441 - val_loss: -5.2379 - val_accuracy: 0.7200\n",
            "Epoch 26/500\n",
            "5/5 [==============================] - 0s 21ms/step - loss: -4.8723 - accuracy: 0.6441 - val_loss: -5.4571 - val_accuracy: 0.7200\n",
            "Epoch 27/500\n",
            "5/5 [==============================] - 0s 25ms/step - loss: -5.0814 - accuracy: 0.6441 - val_loss: -5.6710 - val_accuracy: 0.7200\n",
            "Epoch 28/500\n",
            "5/5 [==============================] - 0s 22ms/step - loss: -5.2821 - accuracy: 0.6441 - val_loss: -5.8893 - val_accuracy: 0.7200\n",
            "Epoch 29/500\n",
            "5/5 [==============================] - 0s 20ms/step - loss: -5.4868 - accuracy: 0.6441 - val_loss: -6.1077 - val_accuracy: 0.7200\n",
            "Epoch 30/500\n",
            "5/5 [==============================] - 0s 26ms/step - loss: -5.6903 - accuracy: 0.6441 - val_loss: -6.3232 - val_accuracy: 0.7200\n",
            "Epoch 31/500\n",
            "5/5 [==============================] - 0s 22ms/step - loss: -5.8896 - accuracy: 0.6441 - val_loss: -6.5338 - val_accuracy: 0.7200\n",
            "Epoch 32/500\n",
            "5/5 [==============================] - 0s 26ms/step - loss: -6.0856 - accuracy: 0.6441 - val_loss: -6.7453 - val_accuracy: 0.7200\n",
            "Epoch 33/500\n",
            "5/5 [==============================] - 0s 20ms/step - loss: -6.2775 - accuracy: 0.6441 - val_loss: -6.9408 - val_accuracy: 0.7200\n",
            "Epoch 34/500\n",
            "5/5 [==============================] - 0s 21ms/step - loss: -6.4637 - accuracy: 0.6441 - val_loss: -7.1356 - val_accuracy: 0.7200\n",
            "Epoch 35/500\n",
            "5/5 [==============================] - 0s 21ms/step - loss: -6.6429 - accuracy: 0.6441 - val_loss: -7.3398 - val_accuracy: 0.7200\n",
            "Epoch 36/500\n",
            "5/5 [==============================] - 0s 22ms/step - loss: -6.8140 - accuracy: 0.6441 - val_loss: -7.5136 - val_accuracy: 0.7200\n",
            "Epoch 37/500\n",
            "5/5 [==============================] - 0s 23ms/step - loss: -6.9773 - accuracy: 0.6441 - val_loss: -7.6696 - val_accuracy: 0.7200\n",
            "Epoch 38/500\n",
            "5/5 [==============================] - 0s 21ms/step - loss: -7.1368 - accuracy: 0.6441 - val_loss: -7.8434 - val_accuracy: 0.7200\n",
            "Epoch 39/500\n",
            "5/5 [==============================] - 0s 22ms/step - loss: -7.2917 - accuracy: 0.6441 - val_loss: -7.9717 - val_accuracy: 0.7200\n",
            "Epoch 40/500\n",
            "5/5 [==============================] - 0s 26ms/step - loss: -7.4386 - accuracy: 0.6441 - val_loss: -8.1149 - val_accuracy: 0.7200\n",
            "Epoch 41/500\n",
            "5/5 [==============================] - 0s 24ms/step - loss: -7.5857 - accuracy: 0.6441 - val_loss: -8.2791 - val_accuracy: 0.7200\n",
            "Epoch 42/500\n",
            "5/5 [==============================] - 0s 24ms/step - loss: -7.7054 - accuracy: 0.6441 - val_loss: -8.4705 - val_accuracy: 0.7200\n",
            "Epoch 43/500\n",
            "5/5 [==============================] - 0s 23ms/step - loss: -7.8415 - accuracy: 0.6306 - val_loss: -8.5270 - val_accuracy: 0.6533\n",
            "Epoch 44/500\n",
            "5/5 [==============================] - 0s 25ms/step - loss: -7.8987 - accuracy: 0.6306 - val_loss: -8.5824 - val_accuracy: 0.6533\n",
            "Epoch 45/500\n",
            "5/5 [==============================] - 0s 28ms/step - loss: -8.0908 - accuracy: 0.6306 - val_loss: -8.8322 - val_accuracy: 0.6533\n",
            "Epoch 46/500\n",
            "5/5 [==============================] - 0s 23ms/step - loss: -8.1820 - accuracy: 0.6306 - val_loss: -8.8882 - val_accuracy: 0.6533\n",
            "Epoch 47/500\n",
            "5/5 [==============================] - 0s 22ms/step - loss: -8.2376 - accuracy: 0.6441 - val_loss: -8.9447 - val_accuracy: 0.6667\n",
            "Epoch 48/500\n",
            "5/5 [==============================] - 0s 25ms/step - loss: -8.2933 - accuracy: 0.6441 - val_loss: -9.0023 - val_accuracy: 0.6667\n",
            "Epoch 49/500\n",
            "5/5 [==============================] - 0s 25ms/step - loss: -8.3524 - accuracy: 0.6441 - val_loss: -9.0583 - val_accuracy: 0.6667\n",
            "Epoch 50/500\n",
            "5/5 [==============================] - 0s 45ms/step - loss: -8.4057 - accuracy: 0.6441 - val_loss: -9.1145 - val_accuracy: 0.6667\n",
            "Epoch 51/500\n",
            "5/5 [==============================] - 0s 22ms/step - loss: -8.4612 - accuracy: 0.6441 - val_loss: -9.1699 - val_accuracy: 0.6667\n",
            "Epoch 52/500\n",
            "5/5 [==============================] - 0s 25ms/step - loss: -8.5164 - accuracy: 0.6532 - val_loss: -9.2226 - val_accuracy: 0.6667\n",
            "Epoch 53/500\n",
            "5/5 [==============================] - 0s 23ms/step - loss: -8.5752 - accuracy: 0.6532 - val_loss: -9.2780 - val_accuracy: 0.6667\n",
            "Epoch 54/500\n",
            "5/5 [==============================] - 0s 27ms/step - loss: -8.6329 - accuracy: 0.6532 - val_loss: -9.3372 - val_accuracy: 0.6667\n",
            "Epoch 55/500\n",
            "5/5 [==============================] - 0s 20ms/step - loss: -8.6912 - accuracy: 0.6532 - val_loss: -9.3948 - val_accuracy: 0.6667\n",
            "Epoch 56/500\n",
            "5/5 [==============================] - 0s 21ms/step - loss: -8.7482 - accuracy: 0.6532 - val_loss: -9.4547 - val_accuracy: 0.6667\n",
            "Epoch 57/500\n",
            "5/5 [==============================] - 0s 20ms/step - loss: -8.8114 - accuracy: 0.6532 - val_loss: -9.5101 - val_accuracy: 0.6667\n",
            "Epoch 58/500\n",
            "5/5 [==============================] - 0s 20ms/step - loss: -8.8687 - accuracy: 0.6532 - val_loss: -9.5668 - val_accuracy: 0.6667\n",
            "Epoch 59/500\n",
            "5/5 [==============================] - 0s 20ms/step - loss: -8.9270 - accuracy: 0.6532 - val_loss: -9.6228 - val_accuracy: 0.6667\n",
            "Epoch 60/500\n",
            "5/5 [==============================] - 0s 24ms/step - loss: -8.9840 - accuracy: 0.6532 - val_loss: -9.6787 - val_accuracy: 0.6667\n",
            "Epoch 61/500\n",
            "5/5 [==============================] - 0s 20ms/step - loss: -9.0410 - accuracy: 0.6532 - val_loss: -9.7287 - val_accuracy: 0.6667\n",
            "Epoch 62/500\n",
            "5/5 [==============================] - 0s 20ms/step - loss: -9.0946 - accuracy: 0.6532 - val_loss: -9.7795 - val_accuracy: 0.6667\n",
            "Epoch 63/500\n",
            "5/5 [==============================] - 0s 22ms/step - loss: -9.1482 - accuracy: 0.6532 - val_loss: -9.8294 - val_accuracy: 0.6667\n",
            "Epoch 64/500\n",
            "5/5 [==============================] - 0s 21ms/step - loss: -9.2017 - accuracy: 0.6532 - val_loss: -9.8786 - val_accuracy: 0.6667\n",
            "Epoch 65/500\n",
            "5/5 [==============================] - 0s 20ms/step - loss: -9.2542 - accuracy: 0.6532 - val_loss: -9.9270 - val_accuracy: 0.6667\n",
            "Epoch 66/500\n",
            "5/5 [==============================] - 0s 19ms/step - loss: -9.3097 - accuracy: 0.6532 - val_loss: -9.9746 - val_accuracy: 0.6667\n",
            "Epoch 67/500\n",
            "5/5 [==============================] - 0s 20ms/step - loss: -9.3627 - accuracy: 0.6532 - val_loss: -10.0240 - val_accuracy: 0.6667\n",
            "Epoch 68/500\n",
            "5/5 [==============================] - 0s 21ms/step - loss: -9.4133 - accuracy: 0.6532 - val_loss: -10.0749 - val_accuracy: 0.6667\n",
            "Epoch 69/500\n",
            "5/5 [==============================] - 0s 21ms/step - loss: -9.4702 - accuracy: 0.6532 - val_loss: -10.1252 - val_accuracy: 0.6667\n",
            "Epoch 70/500\n",
            "5/5 [==============================] - 0s 20ms/step - loss: -9.5219 - accuracy: 0.6532 - val_loss: -10.1739 - val_accuracy: 0.6667\n",
            "Epoch 71/500\n",
            "5/5 [==============================] - 0s 21ms/step - loss: -9.5764 - accuracy: 0.6532 - val_loss: -10.2259 - val_accuracy: 0.6667\n",
            "Epoch 72/500\n",
            "5/5 [==============================] - 0s 20ms/step - loss: -9.6310 - accuracy: 0.6532 - val_loss: -10.2749 - val_accuracy: 0.6667\n",
            "Epoch 73/500\n",
            "5/5 [==============================] - 0s 21ms/step - loss: -9.6849 - accuracy: 0.6532 - val_loss: -10.3262 - val_accuracy: 0.6667\n",
            "Epoch 74/500\n",
            "5/5 [==============================] - 0s 19ms/step - loss: -9.7405 - accuracy: 0.6532 - val_loss: -10.3755 - val_accuracy: 0.6667\n",
            "Epoch 75/500\n",
            "5/5 [==============================] - 0s 19ms/step - loss: -9.7948 - accuracy: 0.6622 - val_loss: -10.4269 - val_accuracy: 0.6667\n",
            "Epoch 76/500\n",
            "5/5 [==============================] - 0s 20ms/step - loss: -9.8495 - accuracy: 0.6712 - val_loss: -10.4832 - val_accuracy: 0.6667\n",
            "Epoch 77/500\n",
            "5/5 [==============================] - 0s 21ms/step - loss: -9.9070 - accuracy: 0.6712 - val_loss: -10.5293 - val_accuracy: 0.6667\n",
            "Epoch 78/500\n",
            "5/5 [==============================] - 0s 20ms/step - loss: -9.9624 - accuracy: 0.6712 - val_loss: -10.5840 - val_accuracy: 0.6667\n",
            "Epoch 79/500\n",
            "5/5 [==============================] - 0s 20ms/step - loss: -10.0178 - accuracy: 0.6757 - val_loss: -10.6388 - val_accuracy: 0.6800\n",
            "Epoch 80/500\n",
            "5/5 [==============================] - 0s 21ms/step - loss: -10.0757 - accuracy: 0.6757 - val_loss: -10.6867 - val_accuracy: 0.6800\n",
            "Epoch 81/500\n",
            "5/5 [==============================] - 0s 20ms/step - loss: -10.1322 - accuracy: 0.6757 - val_loss: -10.7431 - val_accuracy: 0.6800\n",
            "Epoch 82/500\n",
            "5/5 [==============================] - 0s 21ms/step - loss: -10.1897 - accuracy: 0.6757 - val_loss: -10.7927 - val_accuracy: 0.6800\n",
            "Epoch 83/500\n",
            "5/5 [==============================] - 0s 22ms/step - loss: -10.2446 - accuracy: 0.6847 - val_loss: -10.8530 - val_accuracy: 0.6800\n",
            "Epoch 84/500\n",
            "5/5 [==============================] - 0s 20ms/step - loss: -10.3034 - accuracy: 0.6847 - val_loss: -10.8993 - val_accuracy: 0.6800\n",
            "Epoch 85/500\n",
            "5/5 [==============================] - 0s 19ms/step - loss: -10.3584 - accuracy: 0.6802 - val_loss: -10.9448 - val_accuracy: 0.6800\n",
            "Epoch 86/500\n",
            "5/5 [==============================] - 0s 20ms/step - loss: -10.4092 - accuracy: 0.6757 - val_loss: -10.9906 - val_accuracy: 0.6800\n",
            "Epoch 87/500\n",
            "5/5 [==============================] - 0s 20ms/step - loss: -10.4731 - accuracy: 0.6847 - val_loss: -11.0532 - val_accuracy: 0.6800\n",
            "Epoch 88/500\n",
            "5/5 [==============================] - 0s 20ms/step - loss: -10.5253 - accuracy: 0.6847 - val_loss: -11.0987 - val_accuracy: 0.6800\n",
            "Epoch 89/500\n",
            "5/5 [==============================] - 0s 19ms/step - loss: -10.5761 - accuracy: 0.6757 - val_loss: -11.1445 - val_accuracy: 0.6800\n",
            "Epoch 90/500\n",
            "5/5 [==============================] - 0s 20ms/step - loss: -10.6273 - accuracy: 0.6892 - val_loss: -11.1890 - val_accuracy: 0.6800\n",
            "Epoch 91/500\n",
            "5/5 [==============================] - 0s 19ms/step - loss: -10.6752 - accuracy: 0.6937 - val_loss: -11.2342 - val_accuracy: 0.6800\n",
            "Epoch 92/500\n",
            "5/5 [==============================] - 0s 20ms/step - loss: -10.7285 - accuracy: 0.6937 - val_loss: -11.2802 - val_accuracy: 0.6800\n",
            "Epoch 93/500\n",
            "5/5 [==============================] - 0s 20ms/step - loss: -10.7777 - accuracy: 0.6937 - val_loss: -11.3257 - val_accuracy: 0.6800\n",
            "Epoch 94/500\n",
            "5/5 [==============================] - 0s 22ms/step - loss: -10.8265 - accuracy: 0.6937 - val_loss: -11.3712 - val_accuracy: 0.6800\n",
            "Epoch 95/500\n",
            "5/5 [==============================] - 0s 23ms/step - loss: -10.8789 - accuracy: 0.6712 - val_loss: -11.4179 - val_accuracy: 0.6000\n",
            "Epoch 96/500\n",
            "5/5 [==============================] - 0s 22ms/step - loss: -10.9283 - accuracy: 0.6216 - val_loss: -11.4624 - val_accuracy: 0.6667\n",
            "Epoch 97/500\n",
            "5/5 [==============================] - 0s 21ms/step - loss: -10.9810 - accuracy: 0.6847 - val_loss: -11.5048 - val_accuracy: 0.6800\n",
            "Epoch 98/500\n",
            "5/5 [==============================] - 0s 21ms/step - loss: -11.0273 - accuracy: 0.6802 - val_loss: -11.5479 - val_accuracy: 0.6667\n",
            "Epoch 99/500\n",
            "5/5 [==============================] - 0s 21ms/step - loss: -11.0766 - accuracy: 0.5315 - val_loss: -11.5895 - val_accuracy: 0.6667\n",
            "Epoch 100/500\n",
            "5/5 [==============================] - 0s 22ms/step - loss: -11.1225 - accuracy: 0.6667 - val_loss: -11.6320 - val_accuracy: 0.6667\n",
            "Epoch 101/500\n",
            "5/5 [==============================] - 0s 20ms/step - loss: -11.1691 - accuracy: 0.6396 - val_loss: -11.6724 - val_accuracy: 0.6000\n",
            "Epoch 102/500\n",
            "5/5 [==============================] - 0s 20ms/step - loss: -11.2178 - accuracy: 0.5991 - val_loss: -11.7173 - val_accuracy: 0.6533\n",
            "Epoch 103/500\n",
            "5/5 [==============================] - 0s 20ms/step - loss: -11.2634 - accuracy: 0.6396 - val_loss: -11.7603 - val_accuracy: 0.6000\n",
            "Epoch 104/500\n",
            "5/5 [==============================] - 0s 20ms/step - loss: -11.3110 - accuracy: 0.6081 - val_loss: -11.8026 - val_accuracy: 0.6667\n",
            "Epoch 105/500\n",
            "5/5 [==============================] - 0s 21ms/step - loss: -11.3572 - accuracy: 0.6667 - val_loss: -11.8456 - val_accuracy: 0.5600\n",
            "Epoch 106/500\n",
            "5/5 [==============================] - 0s 22ms/step - loss: -11.4020 - accuracy: 0.5541 - val_loss: -11.8910 - val_accuracy: 0.6667\n",
            "Epoch 107/500\n",
            "5/5 [==============================] - 0s 20ms/step - loss: -11.4470 - accuracy: 0.6712 - val_loss: -11.9338 - val_accuracy: 0.6667\n",
            "Epoch 108/500\n",
            "5/5 [==============================] - 0s 21ms/step - loss: -11.4903 - accuracy: 0.5811 - val_loss: -11.9741 - val_accuracy: 0.6667\n",
            "Epoch 109/500\n",
            "5/5 [==============================] - 0s 20ms/step - loss: -11.5345 - accuracy: 0.6396 - val_loss: -12.0112 - val_accuracy: 0.5733\n",
            "Epoch 110/500\n",
            "5/5 [==============================] - 0s 20ms/step - loss: -11.5800 - accuracy: 0.6081 - val_loss: -12.0513 - val_accuracy: 0.6667\n",
            "Epoch 111/500\n",
            "5/5 [==============================] - 0s 20ms/step - loss: -11.6241 - accuracy: 0.6171 - val_loss: -12.0912 - val_accuracy: 0.6533\n",
            "Epoch 112/500\n",
            "5/5 [==============================] - 0s 21ms/step - loss: -11.6653 - accuracy: 0.6532 - val_loss: -12.1291 - val_accuracy: 0.5067\n",
            "Epoch 113/500\n",
            "5/5 [==============================] - 0s 21ms/step - loss: -11.7062 - accuracy: 0.5856 - val_loss: -12.1700 - val_accuracy: 0.6667\n",
            "Epoch 114/500\n",
            "5/5 [==============================] - 0s 19ms/step - loss: -11.7472 - accuracy: 0.6351 - val_loss: -12.2040 - val_accuracy: 0.6667\n",
            "Epoch 115/500\n",
            "5/5 [==============================] - 0s 20ms/step - loss: -11.7877 - accuracy: 0.6532 - val_loss: -12.2442 - val_accuracy: 0.6533\n",
            "Epoch 116/500\n",
            "5/5 [==============================] - 0s 20ms/step - loss: -11.8292 - accuracy: 0.6532 - val_loss: -12.2850 - val_accuracy: 0.5067\n",
            "Epoch 117/500\n",
            "5/5 [==============================] - 0s 23ms/step - loss: -11.8649 - accuracy: 0.6081 - val_loss: -12.3121 - val_accuracy: 0.6533\n",
            "Epoch 118/500\n",
            "5/5 [==============================] - 0s 20ms/step - loss: -11.9009 - accuracy: 0.6081 - val_loss: -12.3507 - val_accuracy: 0.6667\n",
            "Epoch 119/500\n",
            "5/5 [==============================] - 0s 20ms/step - loss: -11.9343 - accuracy: 0.6532 - val_loss: -12.3785 - val_accuracy: 0.5067\n",
            "Epoch 120/500\n",
            "5/5 [==============================] - 0s 19ms/step - loss: -11.9710 - accuracy: 0.5676 - val_loss: -12.4147 - val_accuracy: 0.6667\n",
            "Epoch 121/500\n",
            "5/5 [==============================] - 0s 20ms/step - loss: -12.0108 - accuracy: 0.6847 - val_loss: -12.4389 - val_accuracy: 0.6667\n",
            "Epoch 122/500\n",
            "5/5 [==============================] - 0s 19ms/step - loss: -12.0345 - accuracy: 0.6036 - val_loss: -12.4603 - val_accuracy: 0.6667\n",
            "Epoch 123/500\n",
            "5/5 [==============================] - 0s 20ms/step - loss: -12.0618 - accuracy: 0.6712 - val_loss: -12.5093 - val_accuracy: 0.5600\n",
            "Epoch 124/500\n",
            "5/5 [==============================] - 0s 20ms/step - loss: -12.1095 - accuracy: 0.5541 - val_loss: -12.5300 - val_accuracy: 0.6800\n",
            "Epoch 125/500\n",
            "5/5 [==============================] - 0s 20ms/step - loss: -12.1338 - accuracy: 0.6847 - val_loss: -12.5472 - val_accuracy: 0.6533\n",
            "Epoch 126/500\n",
            "5/5 [==============================] - 0s 19ms/step - loss: -12.1564 - accuracy: 0.6306 - val_loss: -12.5670 - val_accuracy: 0.2133\n",
            "Epoch 127/500\n",
            "5/5 [==============================] - 0s 20ms/step - loss: -12.1759 - accuracy: 0.5721 - val_loss: -12.5873 - val_accuracy: 0.6800\n",
            "Epoch 128/500\n",
            "5/5 [==============================] - 0s 20ms/step - loss: -12.1993 - accuracy: 0.6847 - val_loss: -12.6130 - val_accuracy: 0.6800\n",
            "Epoch 129/500\n",
            "5/5 [==============================] - 0s 21ms/step - loss: -12.2418 - accuracy: 0.6847 - val_loss: -12.6470 - val_accuracy: 0.6667\n",
            "Epoch 130/500\n",
            "5/5 [==============================] - 0s 20ms/step - loss: -12.2703 - accuracy: 0.5450 - val_loss: -12.6631 - val_accuracy: 0.6667\n",
            "Epoch 131/500\n",
            "5/5 [==============================] - 0s 19ms/step - loss: -12.2855 - accuracy: 0.6847 - val_loss: -12.6751 - val_accuracy: 0.6667\n",
            "Epoch 132/500\n",
            "5/5 [==============================] - 0s 20ms/step - loss: -12.3004 - accuracy: 0.6802 - val_loss: -12.6784 - val_accuracy: 0.2133\n",
            "Epoch 133/500\n",
            "5/5 [==============================] - 0s 19ms/step - loss: -12.3131 - accuracy: 0.5811 - val_loss: -12.6917 - val_accuracy: 0.6800\n",
            "Epoch 134/500\n",
            "5/5 [==============================] - 0s 20ms/step - loss: -12.3224 - accuracy: 0.6847 - val_loss: -12.7056 - val_accuracy: 0.6667\n",
            "Epoch 135/500\n",
            "5/5 [==============================] - 0s 20ms/step - loss: -12.3342 - accuracy: 0.5991 - val_loss: -12.7111 - val_accuracy: 0.6667\n",
            "Epoch 136/500\n",
            "5/5 [==============================] - 0s 20ms/step - loss: -12.3446 - accuracy: 0.7027 - val_loss: -12.7124 - val_accuracy: 0.6667\n",
            "Epoch 137/500\n",
            "5/5 [==============================] - 0s 20ms/step - loss: -12.3561 - accuracy: 0.6847 - val_loss: -12.7230 - val_accuracy: 0.2133\n",
            "Epoch 138/500\n",
            "5/5 [==============================] - 0s 20ms/step - loss: -12.3645 - accuracy: 0.5946 - val_loss: -12.7245 - val_accuracy: 0.6533\n",
            "Epoch 139/500\n",
            "5/5 [==============================] - 0s 19ms/step - loss: -12.3733 - accuracy: 0.6486 - val_loss: -12.7315 - val_accuracy: 0.6400\n",
            "Epoch 140/500\n",
            "5/5 [==============================] - 0s 20ms/step - loss: -12.3801 - accuracy: 0.5766 - val_loss: -12.7409 - val_accuracy: 0.6400\n",
            "Epoch 141/500\n",
            "5/5 [==============================] - 0s 21ms/step - loss: -12.3897 - accuracy: 0.6351 - val_loss: -12.7573 - val_accuracy: 0.6533\n",
            "Epoch 142/500\n",
            "5/5 [==============================] - 0s 20ms/step - loss: -12.3979 - accuracy: 0.6441 - val_loss: -12.7602 - val_accuracy: 0.6400\n",
            "Epoch 143/500\n",
            "5/5 [==============================] - 0s 20ms/step - loss: -12.4057 - accuracy: 0.5631 - val_loss: -12.7624 - val_accuracy: 0.6400\n",
            "Epoch 144/500\n",
            "5/5 [==============================] - 0s 20ms/step - loss: -12.4140 - accuracy: 0.6351 - val_loss: -12.7625 - val_accuracy: 0.6400\n",
            "Epoch 145/500\n",
            "5/5 [==============================] - 0s 20ms/step - loss: -12.4218 - accuracy: 0.6351 - val_loss: -12.7689 - val_accuracy: 0.1867\n",
            "Epoch 146/500\n",
            "5/5 [==============================] - 0s 19ms/step - loss: -12.4266 - accuracy: 0.5766 - val_loss: -12.7799 - val_accuracy: 0.6400\n",
            "Epoch 147/500\n",
            "5/5 [==============================] - 0s 20ms/step - loss: -12.4407 - accuracy: 0.6441 - val_loss: -12.7993 - val_accuracy: 0.6267\n",
            "Epoch 148/500\n",
            "5/5 [==============================] - 0s 20ms/step - loss: -12.4525 - accuracy: 0.5541 - val_loss: -12.8039 - val_accuracy: 0.6533\n",
            "Epoch 149/500\n",
            "5/5 [==============================] - 0s 20ms/step - loss: -12.4597 - accuracy: 0.6486 - val_loss: -12.8095 - val_accuracy: 0.6533\n",
            "Epoch 150/500\n",
            "5/5 [==============================] - 0s 20ms/step - loss: -12.4664 - accuracy: 0.6486 - val_loss: -12.8159 - val_accuracy: 0.6400\n",
            "Epoch 151/500\n",
            "5/5 [==============================] - 0s 20ms/step - loss: -12.4732 - accuracy: 0.5450 - val_loss: -12.8191 - val_accuracy: 0.6533\n",
            "Epoch 152/500\n",
            "5/5 [==============================] - 0s 21ms/step - loss: -12.4796 - accuracy: 0.6532 - val_loss: -12.8244 - val_accuracy: 0.6533\n",
            "Epoch 153/500\n",
            "5/5 [==============================] - 0s 20ms/step - loss: -12.4874 - accuracy: 0.6441 - val_loss: -12.8288 - val_accuracy: 0.6400\n",
            "Epoch 154/500\n",
            "5/5 [==============================] - 0s 20ms/step - loss: -12.4932 - accuracy: 0.5541 - val_loss: -12.8341 - val_accuracy: 0.6400\n",
            "Epoch 155/500\n",
            "5/5 [==============================] - 0s 20ms/step - loss: -12.5005 - accuracy: 0.6577 - val_loss: -12.8390 - val_accuracy: 0.6533\n",
            "Epoch 156/500\n",
            "5/5 [==============================] - 0s 20ms/step - loss: -12.5095 - accuracy: 0.6351 - val_loss: -12.8426 - val_accuracy: 0.6400\n",
            "Epoch 157/500\n",
            "5/5 [==============================] - 0s 20ms/step - loss: -12.5150 - accuracy: 0.5135 - val_loss: -12.8451 - val_accuracy: 0.6533\n",
            "Epoch 158/500\n",
            "5/5 [==============================] - 0s 20ms/step - loss: -12.5217 - accuracy: 0.6577 - val_loss: -12.8495 - val_accuracy: 0.6533\n",
            "Epoch 159/500\n",
            "5/5 [==============================] - 0s 20ms/step - loss: -12.5292 - accuracy: 0.6441 - val_loss: -12.8578 - val_accuracy: 0.6533\n",
            "Epoch 160/500\n",
            "5/5 [==============================] - 0s 19ms/step - loss: -12.5343 - accuracy: 0.6532 - val_loss: -12.8598 - val_accuracy: 0.6533\n",
            "Epoch 161/500\n",
            "5/5 [==============================] - 0s 19ms/step - loss: -12.5418 - accuracy: 0.5721 - val_loss: -12.8628 - val_accuracy: 0.6533\n",
            "Epoch 162/500\n",
            "5/5 [==============================] - 0s 19ms/step - loss: -12.5498 - accuracy: 0.6577 - val_loss: -12.8674 - val_accuracy: 0.6400\n",
            "Epoch 163/500\n",
            "5/5 [==============================] - 0s 20ms/step - loss: -12.5547 - accuracy: 0.6441 - val_loss: -12.8698 - val_accuracy: 0.1867\n",
            "Epoch 164/500\n",
            "5/5 [==============================] - 0s 21ms/step - loss: -12.5601 - accuracy: 0.5631 - val_loss: -12.8705 - val_accuracy: 0.6533\n",
            "Epoch 165/500\n",
            "5/5 [==============================] - 0s 20ms/step - loss: -12.5652 - accuracy: 0.6441 - val_loss: -12.8738 - val_accuracy: 0.6533\n",
            "Epoch 166/500\n",
            "5/5 [==============================] - 0s 20ms/step - loss: -12.5694 - accuracy: 0.6622 - val_loss: -12.8752 - val_accuracy: 0.6667\n",
            "Epoch 167/500\n",
            "5/5 [==============================] - 0s 19ms/step - loss: -12.5736 - accuracy: 0.6667 - val_loss: -12.8782 - val_accuracy: 0.6533\n",
            "Epoch 168/500\n",
            "5/5 [==============================] - 0s 20ms/step - loss: -12.5791 - accuracy: 0.5586 - val_loss: -12.8824 - val_accuracy: 0.6533\n",
            "Epoch 169/500\n",
            "5/5 [==============================] - 0s 20ms/step - loss: -12.5862 - accuracy: 0.6486 - val_loss: -12.8863 - val_accuracy: 0.6533\n",
            "Epoch 170/500\n",
            "5/5 [==============================] - 0s 18ms/step - loss: -12.5914 - accuracy: 0.6577 - val_loss: -12.8904 - val_accuracy: 0.6533\n",
            "Epoch 171/500\n",
            "5/5 [==============================] - 0s 20ms/step - loss: -12.5969 - accuracy: 0.5676 - val_loss: -12.8918 - val_accuracy: 0.6667\n",
            "Epoch 172/500\n",
            "5/5 [==============================] - 0s 19ms/step - loss: -12.6010 - accuracy: 0.6757 - val_loss: -12.8932 - val_accuracy: 0.6667\n",
            "Epoch 173/500\n",
            "5/5 [==============================] - 0s 40ms/step - loss: -12.6054 - accuracy: 0.6577 - val_loss: -12.8986 - val_accuracy: 0.6533\n",
            "Epoch 174/500\n",
            "5/5 [==============================] - 0s 21ms/step - loss: -12.6120 - accuracy: 0.6486 - val_loss: -12.9015 - val_accuracy: 0.6533\n",
            "Epoch 175/500\n",
            "5/5 [==============================] - 0s 21ms/step - loss: -12.6169 - accuracy: 0.6577 - val_loss: -12.9021 - val_accuracy: 0.6533\n",
            "Epoch 176/500\n",
            "5/5 [==============================] - 0s 20ms/step - loss: -12.6221 - accuracy: 0.5541 - val_loss: -12.9033 - val_accuracy: 0.6800\n",
            "Epoch 177/500\n",
            "5/5 [==============================] - 0s 19ms/step - loss: -12.6261 - accuracy: 0.6712 - val_loss: -12.9061 - val_accuracy: 0.6533\n",
            "Epoch 178/500\n",
            "5/5 [==============================] - 0s 20ms/step - loss: -12.6323 - accuracy: 0.6577 - val_loss: -12.9095 - val_accuracy: 0.6533\n",
            "Epoch 179/500\n",
            "5/5 [==============================] - 0s 20ms/step - loss: -12.6371 - accuracy: 0.6532 - val_loss: -12.9141 - val_accuracy: 0.6667\n",
            "Epoch 180/500\n",
            "5/5 [==============================] - 0s 20ms/step - loss: -12.6423 - accuracy: 0.6667 - val_loss: -12.9183 - val_accuracy: 0.6800\n",
            "Epoch 181/500\n",
            "5/5 [==============================] - 0s 19ms/step - loss: -12.6482 - accuracy: 0.6171 - val_loss: -12.9224 - val_accuracy: 0.6533\n",
            "Epoch 182/500\n",
            "5/5 [==============================] - 0s 19ms/step - loss: -12.6538 - accuracy: 0.6532 - val_loss: -12.9267 - val_accuracy: 0.6800\n",
            "Epoch 183/500\n",
            "5/5 [==============================] - 0s 19ms/step - loss: -12.6585 - accuracy: 0.7027 - val_loss: -12.9298 - val_accuracy: 0.8533\n",
            "Epoch 184/500\n",
            "5/5 [==============================] - 0s 19ms/step - loss: -12.6636 - accuracy: 0.7297 - val_loss: -12.9348 - val_accuracy: 0.6800\n",
            "Epoch 185/500\n",
            "5/5 [==============================] - 0s 20ms/step - loss: -12.6703 - accuracy: 0.6757 - val_loss: -12.9356 - val_accuracy: 0.6800\n",
            "Epoch 186/500\n",
            "5/5 [==============================] - 0s 21ms/step - loss: -12.6767 - accuracy: 0.6757 - val_loss: -12.9377 - val_accuracy: 0.6800\n",
            "Epoch 187/500\n",
            "5/5 [==============================] - 0s 22ms/step - loss: -12.6826 - accuracy: 0.5946 - val_loss: -12.9404 - val_accuracy: 0.6800\n",
            "Epoch 188/500\n",
            "5/5 [==============================] - 0s 22ms/step - loss: -12.6878 - accuracy: 0.7297 - val_loss: -12.9411 - val_accuracy: 0.7467\n",
            "Epoch 189/500\n",
            "5/5 [==============================] - 0s 23ms/step - loss: -12.6936 - accuracy: 0.6712 - val_loss: -12.9442 - val_accuracy: 0.6800\n",
            "Epoch 190/500\n",
            "5/5 [==============================] - 0s 22ms/step - loss: -12.6997 - accuracy: 0.6892 - val_loss: -12.9450 - val_accuracy: 0.8533\n",
            "Epoch 191/500\n",
            "5/5 [==============================] - 0s 22ms/step - loss: -12.7055 - accuracy: 0.7072 - val_loss: -12.9479 - val_accuracy: 0.6667\n",
            "Epoch 192/500\n",
            "5/5 [==============================] - 0s 21ms/step - loss: -12.7112 - accuracy: 0.6216 - val_loss: -12.9503 - val_accuracy: 0.8400\n",
            "Epoch 193/500\n",
            "5/5 [==============================] - 0s 21ms/step - loss: -12.7170 - accuracy: 0.7072 - val_loss: -12.9552 - val_accuracy: 0.6400\n",
            "Epoch 194/500\n",
            "5/5 [==============================] - 0s 21ms/step - loss: -12.7233 - accuracy: 0.6712 - val_loss: -12.9576 - val_accuracy: 0.6800\n",
            "Epoch 195/500\n",
            "5/5 [==============================] - 0s 21ms/step - loss: -12.7287 - accuracy: 0.5766 - val_loss: -12.9608 - val_accuracy: 0.6800\n",
            "Epoch 196/500\n",
            "5/5 [==============================] - 0s 19ms/step - loss: -12.7344 - accuracy: 0.6712 - val_loss: -12.9663 - val_accuracy: 0.6800\n",
            "Epoch 197/500\n",
            "5/5 [==============================] - 0s 20ms/step - loss: -12.7399 - accuracy: 0.7072 - val_loss: -12.9697 - val_accuracy: 0.6800\n",
            "Epoch 198/500\n",
            "5/5 [==============================] - 0s 22ms/step - loss: -12.7459 - accuracy: 0.7252 - val_loss: -12.9733 - val_accuracy: 0.6800\n",
            "Epoch 199/500\n",
            "5/5 [==============================] - 0s 20ms/step - loss: -12.7522 - accuracy: 0.6712 - val_loss: -12.9754 - val_accuracy: 0.6800\n",
            "Epoch 200/500\n",
            "5/5 [==============================] - 0s 20ms/step - loss: -12.7579 - accuracy: 0.6712 - val_loss: -12.9777 - val_accuracy: 0.6800\n",
            "Epoch 201/500\n",
            "5/5 [==============================] - 0s 19ms/step - loss: -12.7643 - accuracy: 0.6802 - val_loss: -12.9812 - val_accuracy: 0.6933\n",
            "Epoch 202/500\n",
            "5/5 [==============================] - 0s 20ms/step - loss: -12.7696 - accuracy: 0.6712 - val_loss: -12.9864 - val_accuracy: 0.6800\n",
            "Epoch 203/500\n",
            "5/5 [==============================] - 0s 20ms/step - loss: -12.7757 - accuracy: 0.7387 - val_loss: -12.9919 - val_accuracy: 0.6667\n",
            "Epoch 204/500\n",
            "5/5 [==============================] - 0s 20ms/step - loss: -12.7827 - accuracy: 0.6486 - val_loss: -12.9945 - val_accuracy: 0.6667\n",
            "Epoch 205/500\n",
            "5/5 [==============================] - 0s 19ms/step - loss: -12.7885 - accuracy: 0.7613 - val_loss: -12.9982 - val_accuracy: 0.7467\n",
            "Epoch 206/500\n",
            "5/5 [==============================] - 0s 20ms/step - loss: -12.7954 - accuracy: 0.6667 - val_loss: -13.0028 - val_accuracy: 0.6667\n",
            "Epoch 207/500\n",
            "5/5 [==============================] - 0s 20ms/step - loss: -12.8020 - accuracy: 0.6577 - val_loss: -13.0076 - val_accuracy: 0.6933\n",
            "Epoch 208/500\n",
            "5/5 [==============================] - 0s 19ms/step - loss: -12.8083 - accuracy: 0.6622 - val_loss: -13.0109 - val_accuracy: 0.6667\n",
            "Epoch 209/500\n",
            "5/5 [==============================] - 0s 22ms/step - loss: -12.8142 - accuracy: 0.6622 - val_loss: -13.0150 - val_accuracy: 0.6933\n",
            "Epoch 210/500\n",
            "5/5 [==============================] - 0s 20ms/step - loss: -12.8197 - accuracy: 0.7523 - val_loss: -13.0171 - val_accuracy: 0.6933\n",
            "Epoch 211/500\n",
            "5/5 [==============================] - 0s 20ms/step - loss: -12.8259 - accuracy: 0.6712 - val_loss: -13.0206 - val_accuracy: 0.6933\n",
            "Epoch 212/500\n",
            "5/5 [==============================] - 0s 20ms/step - loss: -12.8317 - accuracy: 0.7027 - val_loss: -13.0254 - val_accuracy: 0.6800\n",
            "Epoch 213/500\n",
            "5/5 [==============================] - 0s 20ms/step - loss: -12.8376 - accuracy: 0.7387 - val_loss: -13.0280 - val_accuracy: 0.6933\n",
            "Epoch 214/500\n",
            "5/5 [==============================] - 0s 20ms/step - loss: -12.8440 - accuracy: 0.6892 - val_loss: -13.0319 - val_accuracy: 0.6800\n",
            "Epoch 215/500\n",
            "5/5 [==============================] - 0s 19ms/step - loss: -12.8504 - accuracy: 0.6577 - val_loss: -13.0340 - val_accuracy: 0.6667\n",
            "Epoch 216/500\n",
            "5/5 [==============================] - 0s 20ms/step - loss: -12.8557 - accuracy: 0.7117 - val_loss: -13.0377 - val_accuracy: 0.8533\n",
            "Epoch 217/500\n",
            "5/5 [==============================] - 0s 19ms/step - loss: -12.8622 - accuracy: 0.7207 - val_loss: -13.0408 - val_accuracy: 0.6933\n",
            "Epoch 218/500\n",
            "5/5 [==============================] - 0s 20ms/step - loss: -12.8679 - accuracy: 0.7432 - val_loss: -13.0433 - val_accuracy: 0.6933\n",
            "Epoch 219/500\n",
            "5/5 [==============================] - 0s 19ms/step - loss: -12.8740 - accuracy: 0.5991 - val_loss: -13.0471 - val_accuracy: 0.6800\n",
            "Epoch 220/500\n",
            "5/5 [==============================] - 0s 20ms/step - loss: -12.8798 - accuracy: 0.6937 - val_loss: -13.0508 - val_accuracy: 0.8533\n",
            "Epoch 221/500\n",
            "5/5 [==============================] - 0s 22ms/step - loss: -12.8851 - accuracy: 0.7072 - val_loss: -13.0547 - val_accuracy: 0.8533\n",
            "Epoch 222/500\n",
            "5/5 [==============================] - 0s 19ms/step - loss: -12.8916 - accuracy: 0.7072 - val_loss: -13.0582 - val_accuracy: 0.6933\n",
            "Epoch 223/500\n",
            "5/5 [==============================] - 0s 20ms/step - loss: -12.8966 - accuracy: 0.7072 - val_loss: -13.0599 - val_accuracy: 0.6933\n",
            "Epoch 224/500\n",
            "5/5 [==============================] - 0s 19ms/step - loss: -12.9022 - accuracy: 0.7387 - val_loss: -13.0627 - val_accuracy: 0.6800\n",
            "Epoch 225/500\n",
            "5/5 [==============================] - 0s 20ms/step - loss: -12.9090 - accuracy: 0.5811 - val_loss: -13.0642 - val_accuracy: 0.6933\n",
            "Epoch 226/500\n",
            "5/5 [==============================] - 0s 19ms/step - loss: -12.9151 - accuracy: 0.6757 - val_loss: -13.0687 - val_accuracy: 0.6667\n",
            "Epoch 227/500\n",
            "5/5 [==============================] - 0s 19ms/step - loss: -12.9212 - accuracy: 0.7162 - val_loss: -13.0720 - val_accuracy: 0.8533\n",
            "Epoch 228/500\n",
            "5/5 [==============================] - 0s 20ms/step - loss: -12.9275 - accuracy: 0.6982 - val_loss: -13.0746 - val_accuracy: 0.8533\n",
            "Epoch 229/500\n",
            "5/5 [==============================] - 0s 20ms/step - loss: -12.9320 - accuracy: 0.7523 - val_loss: -13.0785 - val_accuracy: 0.6667\n",
            "Epoch 230/500\n",
            "5/5 [==============================] - 0s 19ms/step - loss: -12.9394 - accuracy: 0.7027 - val_loss: -13.0836 - val_accuracy: 0.6933\n",
            "Epoch 231/500\n",
            "5/5 [==============================] - 0s 20ms/step - loss: -12.9459 - accuracy: 0.6577 - val_loss: -13.0891 - val_accuracy: 0.8533\n",
            "Epoch 232/500\n",
            "5/5 [==============================] - 0s 20ms/step - loss: -12.9515 - accuracy: 0.7297 - val_loss: -13.0935 - val_accuracy: 0.6667\n",
            "Epoch 233/500\n",
            "5/5 [==============================] - 0s 21ms/step - loss: -12.9581 - accuracy: 0.7342 - val_loss: -13.0985 - val_accuracy: 0.6667\n",
            "Epoch 234/500\n",
            "5/5 [==============================] - 0s 20ms/step - loss: -12.9640 - accuracy: 0.6577 - val_loss: -13.1014 - val_accuracy: 0.6800\n",
            "Epoch 235/500\n",
            "5/5 [==============================] - 0s 20ms/step - loss: -12.9700 - accuracy: 0.7297 - val_loss: -13.1062 - val_accuracy: 0.6667\n",
            "Epoch 236/500\n",
            "5/5 [==============================] - 0s 19ms/step - loss: -12.9766 - accuracy: 0.6532 - val_loss: -13.1091 - val_accuracy: 0.6667\n",
            "Epoch 237/500\n",
            "5/5 [==============================] - 0s 20ms/step - loss: -12.9822 - accuracy: 0.7162 - val_loss: -13.1129 - val_accuracy: 0.8533\n",
            "Epoch 238/500\n",
            "5/5 [==============================] - 0s 20ms/step - loss: -12.9879 - accuracy: 0.6937 - val_loss: -13.1162 - val_accuracy: 0.8533\n",
            "Epoch 239/500\n",
            "5/5 [==============================] - 0s 20ms/step - loss: -12.9931 - accuracy: 0.7973 - val_loss: -13.1211 - val_accuracy: 0.6933\n",
            "Epoch 240/500\n",
            "5/5 [==============================] - 0s 20ms/step - loss: -13.0002 - accuracy: 0.7342 - val_loss: -13.1223 - val_accuracy: 0.6667\n",
            "Epoch 241/500\n",
            "5/5 [==============================] - 0s 19ms/step - loss: -13.0062 - accuracy: 0.6622 - val_loss: -13.1263 - val_accuracy: 0.6667\n",
            "Epoch 242/500\n",
            "5/5 [==============================] - 0s 20ms/step - loss: -13.0131 - accuracy: 0.7072 - val_loss: -13.1347 - val_accuracy: 0.8533\n",
            "Epoch 243/500\n",
            "5/5 [==============================] - 0s 20ms/step - loss: -13.0189 - accuracy: 0.6892 - val_loss: -13.1399 - val_accuracy: 0.6667\n",
            "Epoch 244/500\n",
            "5/5 [==============================] - 0s 21ms/step - loss: -13.0255 - accuracy: 0.6577 - val_loss: -13.1428 - val_accuracy: 0.6667\n",
            "Epoch 245/500\n",
            "5/5 [==============================] - 0s 20ms/step - loss: -13.0306 - accuracy: 0.7477 - val_loss: -13.1479 - val_accuracy: 0.6933\n",
            "Epoch 246/500\n",
            "5/5 [==============================] - 0s 20ms/step - loss: -13.0373 - accuracy: 0.6712 - val_loss: -13.1508 - val_accuracy: 0.6667\n",
            "Epoch 247/500\n",
            "5/5 [==============================] - 0s 20ms/step - loss: -13.0438 - accuracy: 0.7477 - val_loss: -13.1563 - val_accuracy: 0.8533\n",
            "Epoch 248/500\n",
            "5/5 [==============================] - 0s 20ms/step - loss: -13.0496 - accuracy: 0.7207 - val_loss: -13.1616 - val_accuracy: 0.6667\n",
            "Epoch 249/500\n",
            "5/5 [==============================] - 0s 21ms/step - loss: -13.0555 - accuracy: 0.7027 - val_loss: -13.1666 - val_accuracy: 0.8667\n",
            "Epoch 250/500\n",
            "5/5 [==============================] - 0s 20ms/step - loss: -13.0609 - accuracy: 0.7297 - val_loss: -13.1719 - val_accuracy: 0.7067\n",
            "Epoch 251/500\n",
            "5/5 [==============================] - 0s 19ms/step - loss: -13.0671 - accuracy: 0.7568 - val_loss: -13.1751 - val_accuracy: 0.6933\n",
            "Epoch 252/500\n",
            "5/5 [==============================] - 0s 20ms/step - loss: -13.0729 - accuracy: 0.6802 - val_loss: -13.1777 - val_accuracy: 0.6667\n",
            "Epoch 253/500\n",
            "5/5 [==============================] - 0s 20ms/step - loss: -13.0789 - accuracy: 0.7297 - val_loss: -13.1819 - val_accuracy: 0.7733\n",
            "Epoch 254/500\n",
            "5/5 [==============================] - 0s 19ms/step - loss: -13.0845 - accuracy: 0.7072 - val_loss: -13.1851 - val_accuracy: 0.6667\n",
            "Epoch 255/500\n",
            "5/5 [==============================] - 0s 20ms/step - loss: -13.0907 - accuracy: 0.7117 - val_loss: -13.1870 - val_accuracy: 0.8267\n",
            "Epoch 256/500\n",
            "5/5 [==============================] - 0s 45ms/step - loss: -13.0963 - accuracy: 0.7342 - val_loss: -13.1901 - val_accuracy: 0.7067\n",
            "Epoch 257/500\n",
            "5/5 [==============================] - 0s 21ms/step - loss: -13.1018 - accuracy: 0.7252 - val_loss: -13.1946 - val_accuracy: 0.6933\n",
            "Epoch 258/500\n",
            "5/5 [==============================] - 0s 20ms/step - loss: -13.1083 - accuracy: 0.6937 - val_loss: -13.1970 - val_accuracy: 0.6933\n",
            "Epoch 259/500\n",
            "5/5 [==============================] - 0s 20ms/step - loss: -13.1143 - accuracy: 0.7568 - val_loss: -13.2010 - val_accuracy: 0.7067\n",
            "Epoch 260/500\n",
            "5/5 [==============================] - 0s 20ms/step - loss: -13.1193 - accuracy: 0.6892 - val_loss: -13.2039 - val_accuracy: 0.7067\n",
            "Epoch 261/500\n",
            "5/5 [==============================] - 0s 19ms/step - loss: -13.1259 - accuracy: 0.7748 - val_loss: -13.2108 - val_accuracy: 0.7067\n",
            "Epoch 262/500\n",
            "5/5 [==============================] - 0s 19ms/step - loss: -13.1314 - accuracy: 0.7297 - val_loss: -13.2133 - val_accuracy: 0.7067\n",
            "Epoch 263/500\n",
            "5/5 [==============================] - 0s 19ms/step - loss: -13.1373 - accuracy: 0.7027 - val_loss: -13.2167 - val_accuracy: 0.7333\n",
            "Epoch 264/500\n",
            "5/5 [==============================] - 0s 20ms/step - loss: -13.1428 - accuracy: 0.7703 - val_loss: -13.2205 - val_accuracy: 0.6667\n",
            "Epoch 265/500\n",
            "5/5 [==============================] - 0s 20ms/step - loss: -13.1493 - accuracy: 0.6622 - val_loss: -13.2241 - val_accuracy: 0.6667\n",
            "Epoch 266/500\n",
            "5/5 [==============================] - 0s 20ms/step - loss: -13.1541 - accuracy: 0.7342 - val_loss: -13.2291 - val_accuracy: 0.6933\n",
            "Epoch 267/500\n",
            "5/5 [==============================] - 0s 20ms/step - loss: -13.1603 - accuracy: 0.6757 - val_loss: -13.2335 - val_accuracy: 0.6933\n",
            "Epoch 268/500\n",
            "5/5 [==============================] - 0s 20ms/step - loss: -13.1668 - accuracy: 0.7748 - val_loss: -13.2358 - val_accuracy: 0.6667\n",
            "Epoch 269/500\n",
            "5/5 [==============================] - 0s 19ms/step - loss: -13.1716 - accuracy: 0.6802 - val_loss: -13.2376 - val_accuracy: 0.6800\n",
            "Epoch 270/500\n",
            "5/5 [==============================] - 0s 20ms/step - loss: -13.1779 - accuracy: 0.7207 - val_loss: -13.2385 - val_accuracy: 0.8400\n",
            "Epoch 271/500\n",
            "5/5 [==============================] - 0s 20ms/step - loss: -13.1848 - accuracy: 0.7162 - val_loss: -13.2426 - val_accuracy: 0.7067\n",
            "Epoch 272/500\n",
            "5/5 [==============================] - 0s 20ms/step - loss: -13.1903 - accuracy: 0.7568 - val_loss: -13.2496 - val_accuracy: 0.8533\n",
            "Epoch 273/500\n",
            "5/5 [==============================] - 0s 20ms/step - loss: -13.1973 - accuracy: 0.8108 - val_loss: -13.2537 - val_accuracy: 0.6667\n",
            "Epoch 274/500\n",
            "5/5 [==============================] - 0s 19ms/step - loss: -13.2028 - accuracy: 0.6712 - val_loss: -13.2590 - val_accuracy: 0.6933\n",
            "Epoch 275/500\n",
            "5/5 [==============================] - 0s 20ms/step - loss: -13.2086 - accuracy: 0.7793 - val_loss: -13.2659 - val_accuracy: 0.6933\n",
            "Epoch 276/500\n",
            "5/5 [==============================] - 0s 20ms/step - loss: -13.2141 - accuracy: 0.6802 - val_loss: -13.2715 - val_accuracy: 0.6667\n",
            "Epoch 277/500\n",
            "5/5 [==============================] - 0s 20ms/step - loss: -13.2195 - accuracy: 0.7297 - val_loss: -13.2748 - val_accuracy: 0.8533\n",
            "Epoch 278/500\n",
            "5/5 [==============================] - 0s 19ms/step - loss: -13.2253 - accuracy: 0.7297 - val_loss: -13.2787 - val_accuracy: 0.6667\n",
            "Epoch 279/500\n",
            "5/5 [==============================] - 0s 23ms/step - loss: -13.2315 - accuracy: 0.6712 - val_loss: -13.2815 - val_accuracy: 0.8533\n",
            "Epoch 280/500\n",
            "5/5 [==============================] - 0s 20ms/step - loss: -13.2363 - accuracy: 0.7883 - val_loss: -13.2859 - val_accuracy: 0.6667\n",
            "Epoch 281/500\n",
            "5/5 [==============================] - 0s 20ms/step - loss: -13.2421 - accuracy: 0.7117 - val_loss: -13.2901 - val_accuracy: 0.8533\n",
            "Epoch 282/500\n",
            "5/5 [==============================] - 0s 19ms/step - loss: -13.2479 - accuracy: 0.7387 - val_loss: -13.2950 - val_accuracy: 0.6800\n",
            "Epoch 283/500\n",
            "5/5 [==============================] - 0s 20ms/step - loss: -13.2534 - accuracy: 0.6712 - val_loss: -13.2967 - val_accuracy: 0.6933\n",
            "Epoch 284/500\n",
            "5/5 [==============================] - 0s 20ms/step - loss: -13.2595 - accuracy: 0.6622 - val_loss: -13.2999 - val_accuracy: 0.8400\n",
            "Epoch 285/500\n",
            "5/5 [==============================] - 0s 21ms/step - loss: -13.2653 - accuracy: 0.6982 - val_loss: -13.3025 - val_accuracy: 0.8533\n",
            "Epoch 286/500\n",
            "5/5 [==============================] - 0s 20ms/step - loss: -13.2707 - accuracy: 0.7613 - val_loss: -13.3067 - val_accuracy: 0.6933\n",
            "Epoch 287/500\n",
            "5/5 [==============================] - 0s 20ms/step - loss: -13.2771 - accuracy: 0.6802 - val_loss: -13.3100 - val_accuracy: 0.8533\n",
            "Epoch 288/500\n",
            "5/5 [==============================] - 0s 20ms/step - loss: -13.2811 - accuracy: 0.7928 - val_loss: -13.3157 - val_accuracy: 0.6800\n",
            "Epoch 289/500\n",
            "5/5 [==============================] - 0s 20ms/step - loss: -13.2869 - accuracy: 0.7523 - val_loss: -13.3193 - val_accuracy: 0.6667\n",
            "Epoch 290/500\n",
            "5/5 [==============================] - 0s 20ms/step - loss: -13.2935 - accuracy: 0.6486 - val_loss: -13.3240 - val_accuracy: 0.6800\n",
            "Epoch 291/500\n",
            "5/5 [==============================] - 0s 22ms/step - loss: -13.2984 - accuracy: 0.7027 - val_loss: -13.3282 - val_accuracy: 0.6667\n",
            "Epoch 292/500\n",
            "5/5 [==============================] - 0s 20ms/step - loss: -13.3045 - accuracy: 0.6667 - val_loss: -13.3309 - val_accuracy: 0.8400\n",
            "Epoch 293/500\n",
            "5/5 [==============================] - 0s 20ms/step - loss: -13.3091 - accuracy: 0.7793 - val_loss: -13.3349 - val_accuracy: 0.6667\n",
            "Epoch 294/500\n",
            "5/5 [==============================] - 0s 19ms/step - loss: -13.3146 - accuracy: 0.7297 - val_loss: -13.3372 - val_accuracy: 0.8400\n",
            "Epoch 295/500\n",
            "5/5 [==============================] - 0s 20ms/step - loss: -13.3212 - accuracy: 0.6486 - val_loss: -13.3387 - val_accuracy: 0.6533\n",
            "Epoch 296/500\n",
            "5/5 [==============================] - 0s 19ms/step - loss: -13.3264 - accuracy: 0.7387 - val_loss: -13.3384 - val_accuracy: 0.6533\n",
            "Epoch 297/500\n",
            "5/5 [==============================] - 0s 20ms/step - loss: -13.3318 - accuracy: 0.6577 - val_loss: -13.3396 - val_accuracy: 0.8400\n",
            "Epoch 298/500\n",
            "5/5 [==============================] - 0s 20ms/step - loss: -13.3364 - accuracy: 0.7477 - val_loss: -13.3451 - val_accuracy: 0.6933\n",
            "Epoch 299/500\n",
            "5/5 [==============================] - 0s 20ms/step - loss: -13.3437 - accuracy: 0.7252 - val_loss: -13.3474 - val_accuracy: 0.6800\n",
            "Epoch 300/500\n",
            "5/5 [==============================] - 0s 19ms/step - loss: -13.3483 - accuracy: 0.7027 - val_loss: -13.3478 - val_accuracy: 0.8400\n",
            "Epoch 301/500\n",
            "5/5 [==============================] - 0s 19ms/step - loss: -13.3538 - accuracy: 0.6847 - val_loss: -13.3503 - val_accuracy: 0.8533\n",
            "Epoch 302/500\n",
            "5/5 [==============================] - 0s 22ms/step - loss: -13.3587 - accuracy: 0.7432 - val_loss: -13.3523 - val_accuracy: 0.6400\n",
            "Epoch 303/500\n",
            "5/5 [==============================] - 0s 21ms/step - loss: -13.3660 - accuracy: 0.6757 - val_loss: -13.3555 - val_accuracy: 0.8533\n",
            "Epoch 304/500\n",
            "5/5 [==============================] - 0s 22ms/step - loss: -13.3706 - accuracy: 0.7027 - val_loss: -13.3609 - val_accuracy: 0.6933\n",
            "Epoch 305/500\n",
            "5/5 [==============================] - 0s 22ms/step - loss: -13.3751 - accuracy: 0.7748 - val_loss: -13.3634 - val_accuracy: 0.8400\n",
            "Epoch 306/500\n",
            "5/5 [==============================] - 0s 22ms/step - loss: -13.3813 - accuracy: 0.7387 - val_loss: -13.3659 - val_accuracy: 0.6400\n",
            "Epoch 307/500\n",
            "5/5 [==============================] - 0s 21ms/step - loss: -13.3858 - accuracy: 0.5405 - val_loss: -13.3698 - val_accuracy: 0.8533\n",
            "Epoch 308/500\n",
            "5/5 [==============================] - 0s 21ms/step - loss: -13.3915 - accuracy: 0.7297 - val_loss: -13.3734 - val_accuracy: 0.8533\n",
            "Epoch 309/500\n",
            "5/5 [==============================] - 0s 23ms/step - loss: -13.3957 - accuracy: 0.7613 - val_loss: -13.3774 - val_accuracy: 0.6933\n",
            "Epoch 310/500\n",
            "5/5 [==============================] - 0s 21ms/step - loss: -13.4019 - accuracy: 0.7793 - val_loss: -13.3815 - val_accuracy: 0.7067\n",
            "Epoch 311/500\n",
            "5/5 [==============================] - 0s 20ms/step - loss: -13.4068 - accuracy: 0.6937 - val_loss: -13.3846 - val_accuracy: 0.8667\n",
            "Epoch 312/500\n",
            "5/5 [==============================] - 0s 20ms/step - loss: -13.4120 - accuracy: 0.7342 - val_loss: -13.3892 - val_accuracy: 0.8533\n",
            "Epoch 313/500\n",
            "5/5 [==============================] - 0s 21ms/step - loss: -13.4164 - accuracy: 0.7523 - val_loss: -13.3910 - val_accuracy: 0.8533\n",
            "Epoch 314/500\n",
            "5/5 [==============================] - 0s 21ms/step - loss: -13.4214 - accuracy: 0.7207 - val_loss: -13.3927 - val_accuracy: 0.8533\n",
            "Epoch 315/500\n",
            "5/5 [==============================] - 0s 20ms/step - loss: -13.4265 - accuracy: 0.7613 - val_loss: -13.3980 - val_accuracy: 0.6933\n",
            "Epoch 316/500\n",
            "5/5 [==============================] - 0s 20ms/step - loss: -13.4320 - accuracy: 0.7387 - val_loss: -13.3988 - val_accuracy: 0.8400\n",
            "Epoch 317/500\n",
            "5/5 [==============================] - 0s 20ms/step - loss: -13.4373 - accuracy: 0.6216 - val_loss: -13.4009 - val_accuracy: 0.6800\n",
            "Epoch 318/500\n",
            "5/5 [==============================] - 0s 20ms/step - loss: -13.4410 - accuracy: 0.7613 - val_loss: -13.4044 - val_accuracy: 0.6667\n",
            "Epoch 319/500\n",
            "5/5 [==============================] - 0s 19ms/step - loss: -13.4465 - accuracy: 0.6622 - val_loss: -13.4074 - val_accuracy: 0.8533\n",
            "Epoch 320/500\n",
            "5/5 [==============================] - 0s 22ms/step - loss: -13.4504 - accuracy: 0.8063 - val_loss: -13.4088 - val_accuracy: 0.8533\n",
            "Epoch 321/500\n",
            "5/5 [==============================] - 0s 20ms/step - loss: -13.4549 - accuracy: 0.7387 - val_loss: -13.4124 - val_accuracy: 0.6933\n",
            "Epoch 322/500\n",
            "5/5 [==============================] - 0s 40ms/step - loss: -13.4597 - accuracy: 0.7748 - val_loss: -13.4145 - val_accuracy: 0.8533\n",
            "Epoch 323/500\n",
            "5/5 [==============================] - 0s 21ms/step - loss: -13.4647 - accuracy: 0.7477 - val_loss: -13.4172 - val_accuracy: 0.6800\n",
            "Epoch 324/500\n",
            "5/5 [==============================] - 0s 22ms/step - loss: -13.4686 - accuracy: 0.7387 - val_loss: -13.4191 - val_accuracy: 0.6800\n",
            "Epoch 325/500\n",
            "5/5 [==============================] - 0s 21ms/step - loss: -13.4731 - accuracy: 0.6532 - val_loss: -13.4269 - val_accuracy: 0.8533\n",
            "Epoch 326/500\n",
            "5/5 [==============================] - 0s 21ms/step - loss: -13.4796 - accuracy: 0.7703 - val_loss: -13.4321 - val_accuracy: 0.6800\n",
            "Epoch 327/500\n",
            "5/5 [==============================] - 0s 21ms/step - loss: -13.4833 - accuracy: 0.7117 - val_loss: -13.4361 - val_accuracy: 0.8667\n",
            "Epoch 328/500\n",
            "5/5 [==============================] - 0s 21ms/step - loss: -13.4871 - accuracy: 0.7928 - val_loss: -13.4385 - val_accuracy: 0.6933\n",
            "Epoch 329/500\n",
            "5/5 [==============================] - 0s 21ms/step - loss: -13.4907 - accuracy: 0.7883 - val_loss: -13.4402 - val_accuracy: 0.8667\n",
            "Epoch 330/500\n",
            "5/5 [==============================] - 0s 23ms/step - loss: -13.4951 - accuracy: 0.7748 - val_loss: -13.4436 - val_accuracy: 0.8667\n",
            "Epoch 331/500\n",
            "5/5 [==============================] - 0s 23ms/step - loss: -13.4991 - accuracy: 0.7613 - val_loss: -13.4466 - val_accuracy: 0.8667\n",
            "Epoch 332/500\n",
            "5/5 [==============================] - 0s 22ms/step - loss: -13.5030 - accuracy: 0.7342 - val_loss: -13.4490 - val_accuracy: 0.8533\n",
            "Epoch 333/500\n",
            "5/5 [==============================] - 0s 20ms/step - loss: -13.5069 - accuracy: 0.8198 - val_loss: -13.4538 - val_accuracy: 0.8533\n",
            "Epoch 334/500\n",
            "5/5 [==============================] - 0s 21ms/step - loss: -13.5112 - accuracy: 0.7973 - val_loss: -13.4570 - val_accuracy: 0.6533\n",
            "Epoch 335/500\n",
            "5/5 [==============================] - 0s 21ms/step - loss: -13.5149 - accuracy: 0.7027 - val_loss: -13.4569 - val_accuracy: 0.8533\n",
            "Epoch 336/500\n",
            "5/5 [==============================] - 0s 19ms/step - loss: -13.5190 - accuracy: 0.8063 - val_loss: -13.4585 - val_accuracy: 0.8533\n",
            "Epoch 337/500\n",
            "5/5 [==============================] - 0s 20ms/step - loss: -13.5229 - accuracy: 0.6892 - val_loss: -13.4628 - val_accuracy: 0.8533\n",
            "Epoch 338/500\n",
            "5/5 [==============================] - 0s 20ms/step - loss: -13.5265 - accuracy: 0.8063 - val_loss: -13.4640 - val_accuracy: 0.8533\n",
            "Epoch 339/500\n",
            "5/5 [==============================] - 0s 20ms/step - loss: -13.5307 - accuracy: 0.7838 - val_loss: -13.4678 - val_accuracy: 0.6667\n",
            "Epoch 340/500\n",
            "5/5 [==============================] - 0s 19ms/step - loss: -13.5336 - accuracy: 0.7162 - val_loss: -13.4695 - val_accuracy: 0.8400\n",
            "Epoch 341/500\n",
            "5/5 [==============================] - 0s 20ms/step - loss: -13.5366 - accuracy: 0.6982 - val_loss: -13.4757 - val_accuracy: 0.6933\n",
            "Epoch 342/500\n",
            "5/5 [==============================] - 0s 20ms/step - loss: -13.5428 - accuracy: 0.7342 - val_loss: -13.4793 - val_accuracy: 0.6933\n",
            "Epoch 343/500\n",
            "5/5 [==============================] - 0s 21ms/step - loss: -13.5467 - accuracy: 0.7748 - val_loss: -13.4748 - val_accuracy: 0.6667\n",
            "Epoch 344/500\n",
            "5/5 [==============================] - 0s 20ms/step - loss: -13.5500 - accuracy: 0.7207 - val_loss: -13.4796 - val_accuracy: 0.8533\n",
            "Epoch 345/500\n",
            "5/5 [==============================] - 0s 21ms/step - loss: -13.5530 - accuracy: 0.7748 - val_loss: -13.4840 - val_accuracy: 0.6933\n",
            "Epoch 346/500\n",
            "5/5 [==============================] - 0s 23ms/step - loss: -13.5571 - accuracy: 0.7748 - val_loss: -13.4828 - val_accuracy: 0.7200\n",
            "Epoch 347/500\n",
            "5/5 [==============================] - 0s 20ms/step - loss: -13.5611 - accuracy: 0.7477 - val_loss: -13.4886 - val_accuracy: 0.6933\n",
            "Epoch 348/500\n",
            "5/5 [==============================] - 0s 21ms/step - loss: -13.5646 - accuracy: 0.7568 - val_loss: -13.4938 - val_accuracy: 0.6800\n",
            "Epoch 349/500\n",
            "5/5 [==============================] - 0s 21ms/step - loss: -13.5687 - accuracy: 0.7613 - val_loss: -13.4957 - val_accuracy: 0.8533\n",
            "Epoch 350/500\n",
            "5/5 [==============================] - 0s 20ms/step - loss: -13.5720 - accuracy: 0.7117 - val_loss: -13.4968 - val_accuracy: 0.8533\n",
            "Epoch 351/500\n",
            "5/5 [==============================] - 0s 20ms/step - loss: -13.5763 - accuracy: 0.7703 - val_loss: -13.5000 - val_accuracy: 0.8533\n",
            "Epoch 352/500\n",
            "5/5 [==============================] - 0s 20ms/step - loss: -13.5798 - accuracy: 0.8108 - val_loss: -13.5040 - val_accuracy: 0.8533\n",
            "Epoch 353/500\n",
            "5/5 [==============================] - 0s 20ms/step - loss: -13.5839 - accuracy: 0.7072 - val_loss: -13.5072 - val_accuracy: 0.8533\n",
            "Epoch 354/500\n",
            "5/5 [==============================] - 0s 21ms/step - loss: -13.5869 - accuracy: 0.8108 - val_loss: -13.5090 - val_accuracy: 0.8533\n",
            "Epoch 355/500\n",
            "5/5 [==============================] - 0s 21ms/step - loss: -13.5904 - accuracy: 0.7342 - val_loss: -13.5150 - val_accuracy: 0.8533\n",
            "Epoch 356/500\n",
            "5/5 [==============================] - 0s 20ms/step - loss: -13.5945 - accuracy: 0.7928 - val_loss: -13.5146 - val_accuracy: 0.6933\n",
            "Epoch 357/500\n",
            "5/5 [==============================] - 0s 21ms/step - loss: -13.5986 - accuracy: 0.7793 - val_loss: -13.5172 - val_accuracy: 0.6933\n",
            "Epoch 358/500\n",
            "5/5 [==============================] - 0s 21ms/step - loss: -13.6012 - accuracy: 0.7477 - val_loss: -13.5186 - val_accuracy: 0.8533\n",
            "Epoch 359/500\n",
            "5/5 [==============================] - 0s 20ms/step - loss: -13.6055 - accuracy: 0.7568 - val_loss: -13.5205 - val_accuracy: 0.8533\n",
            "Epoch 360/500\n",
            "5/5 [==============================] - 0s 21ms/step - loss: -13.6086 - accuracy: 0.7658 - val_loss: -13.5221 - val_accuracy: 0.8533\n",
            "Epoch 361/500\n",
            "5/5 [==============================] - 0s 21ms/step - loss: -13.6120 - accuracy: 0.7703 - val_loss: -13.5224 - val_accuracy: 0.6933\n",
            "Epoch 362/500\n",
            "5/5 [==============================] - 0s 20ms/step - loss: -13.6156 - accuracy: 0.7477 - val_loss: -13.5238 - val_accuracy: 0.8533\n",
            "Epoch 363/500\n",
            "5/5 [==============================] - 0s 21ms/step - loss: -13.6192 - accuracy: 0.7793 - val_loss: -13.5267 - val_accuracy: 0.6667\n",
            "Epoch 364/500\n",
            "5/5 [==============================] - 0s 20ms/step - loss: -13.6217 - accuracy: 0.7658 - val_loss: -13.5251 - val_accuracy: 0.8533\n",
            "Epoch 365/500\n",
            "5/5 [==============================] - 0s 21ms/step - loss: -13.6256 - accuracy: 0.7432 - val_loss: -13.5304 - val_accuracy: 0.8533\n",
            "Epoch 366/500\n",
            "5/5 [==============================] - 0s 22ms/step - loss: -13.6290 - accuracy: 0.7703 - val_loss: -13.5316 - val_accuracy: 0.8533\n",
            "Epoch 367/500\n",
            "5/5 [==============================] - 0s 22ms/step - loss: -13.6327 - accuracy: 0.7477 - val_loss: -13.5363 - val_accuracy: 0.8533\n",
            "Epoch 368/500\n",
            "5/5 [==============================] - 0s 23ms/step - loss: -13.6359 - accuracy: 0.8153 - val_loss: -13.5388 - val_accuracy: 0.8533\n",
            "Epoch 369/500\n",
            "5/5 [==============================] - 0s 22ms/step - loss: -13.6396 - accuracy: 0.7252 - val_loss: -13.5403 - val_accuracy: 0.8533\n",
            "Epoch 370/500\n",
            "5/5 [==============================] - 0s 20ms/step - loss: -13.6428 - accuracy: 0.8198 - val_loss: -13.5420 - val_accuracy: 0.6533\n",
            "Epoch 371/500\n",
            "5/5 [==============================] - 0s 44ms/step - loss: -13.6463 - accuracy: 0.6667 - val_loss: -13.5462 - val_accuracy: 0.8533\n",
            "Epoch 372/500\n",
            "5/5 [==============================] - 0s 20ms/step - loss: -13.6499 - accuracy: 0.8063 - val_loss: -13.5497 - val_accuracy: 0.8533\n",
            "Epoch 373/500\n",
            "5/5 [==============================] - 0s 20ms/step - loss: -13.6537 - accuracy: 0.7568 - val_loss: -13.5515 - val_accuracy: 0.6667\n",
            "Epoch 374/500\n",
            "5/5 [==============================] - 0s 20ms/step - loss: -13.6572 - accuracy: 0.7523 - val_loss: -13.5536 - val_accuracy: 0.6800\n",
            "Epoch 375/500\n",
            "5/5 [==============================] - 0s 19ms/step - loss: -13.6606 - accuracy: 0.7477 - val_loss: -13.5522 - val_accuracy: 0.8400\n",
            "Epoch 376/500\n",
            "5/5 [==============================] - 0s 21ms/step - loss: -13.6626 - accuracy: 0.7793 - val_loss: -13.5639 - val_accuracy: 0.8533\n",
            "Epoch 377/500\n",
            "5/5 [==============================] - 0s 20ms/step - loss: -13.6706 - accuracy: 0.8153 - val_loss: -13.5630 - val_accuracy: 0.8533\n",
            "Epoch 378/500\n",
            "5/5 [==============================] - 0s 20ms/step - loss: -13.6741 - accuracy: 0.7658 - val_loss: -13.5640 - val_accuracy: 0.6933\n",
            "Epoch 379/500\n",
            "5/5 [==============================] - 0s 23ms/step - loss: -13.6766 - accuracy: 0.7387 - val_loss: -13.5676 - val_accuracy: 0.8533\n",
            "Epoch 380/500\n",
            "5/5 [==============================] - 0s 20ms/step - loss: -13.6810 - accuracy: 0.8198 - val_loss: -13.5697 - val_accuracy: 0.8533\n",
            "Epoch 381/500\n",
            "5/5 [==============================] - 0s 20ms/step - loss: -13.6843 - accuracy: 0.7838 - val_loss: -13.5738 - val_accuracy: 0.6667\n",
            "Epoch 382/500\n",
            "5/5 [==============================] - 0s 20ms/step - loss: -13.6875 - accuracy: 0.6982 - val_loss: -13.5781 - val_accuracy: 0.8533\n",
            "Epoch 383/500\n",
            "5/5 [==============================] - 0s 20ms/step - loss: -13.6903 - accuracy: 0.8153 - val_loss: -13.5805 - val_accuracy: 0.8533\n",
            "Epoch 384/500\n",
            "5/5 [==============================] - 0s 20ms/step - loss: -13.6944 - accuracy: 0.6937 - val_loss: -13.5809 - val_accuracy: 0.8533\n",
            "Epoch 385/500\n",
            "5/5 [==============================] - 0s 20ms/step - loss: -13.6974 - accuracy: 0.8063 - val_loss: -13.5840 - val_accuracy: 0.8533\n",
            "Epoch 386/500\n",
            "5/5 [==============================] - 0s 19ms/step - loss: -13.7010 - accuracy: 0.8153 - val_loss: -13.5872 - val_accuracy: 0.8533\n",
            "Epoch 387/500\n",
            "5/5 [==============================] - 0s 20ms/step - loss: -13.7048 - accuracy: 0.6847 - val_loss: -13.5924 - val_accuracy: 0.8533\n",
            "Epoch 388/500\n",
            "5/5 [==============================] - 0s 21ms/step - loss: -13.7079 - accuracy: 0.8018 - val_loss: -13.5938 - val_accuracy: 0.8533\n",
            "Epoch 389/500\n",
            "5/5 [==============================] - 0s 20ms/step - loss: -13.7099 - accuracy: 0.8108 - val_loss: -13.5886 - val_accuracy: 0.8533\n",
            "Epoch 390/500\n",
            "5/5 [==============================] - 0s 21ms/step - loss: -13.7158 - accuracy: 0.8153 - val_loss: -13.5969 - val_accuracy: 0.6667\n",
            "Epoch 391/500\n",
            "5/5 [==============================] - 0s 21ms/step - loss: -13.7187 - accuracy: 0.6712 - val_loss: -13.5919 - val_accuracy: 0.8533\n",
            "Epoch 392/500\n",
            "5/5 [==============================] - 0s 22ms/step - loss: -13.7229 - accuracy: 0.8243 - val_loss: -13.5938 - val_accuracy: 0.8533\n",
            "Epoch 393/500\n",
            "5/5 [==============================] - 0s 20ms/step - loss: -13.7261 - accuracy: 0.7252 - val_loss: -13.5940 - val_accuracy: 0.8533\n",
            "Epoch 394/500\n",
            "5/5 [==============================] - 0s 20ms/step - loss: -13.7310 - accuracy: 0.7838 - val_loss: -13.5992 - val_accuracy: 0.6800\n",
            "Epoch 395/500\n",
            "5/5 [==============================] - 0s 20ms/step - loss: -13.7337 - accuracy: 0.7523 - val_loss: -13.6015 - val_accuracy: 0.8533\n",
            "Epoch 396/500\n",
            "5/5 [==============================] - 0s 21ms/step - loss: -13.7383 - accuracy: 0.7658 - val_loss: -13.6024 - val_accuracy: 0.8533\n",
            "Epoch 397/500\n",
            "5/5 [==============================] - 0s 21ms/step - loss: -13.7418 - accuracy: 0.7973 - val_loss: -13.6069 - val_accuracy: 0.8533\n",
            "Epoch 398/500\n",
            "5/5 [==============================] - 0s 21ms/step - loss: -13.7451 - accuracy: 0.7793 - val_loss: -13.6141 - val_accuracy: 0.8533\n",
            "Epoch 399/500\n",
            "5/5 [==============================] - 0s 20ms/step - loss: -13.7492 - accuracy: 0.7658 - val_loss: -13.6180 - val_accuracy: 0.8533\n",
            "Epoch 400/500\n",
            "5/5 [==============================] - 0s 22ms/step - loss: -13.7525 - accuracy: 0.7613 - val_loss: -13.6224 - val_accuracy: 0.8533\n",
            "Epoch 401/500\n",
            "5/5 [==============================] - 0s 22ms/step - loss: -13.7559 - accuracy: 0.8198 - val_loss: -13.6244 - val_accuracy: 0.8533\n",
            "Epoch 402/500\n",
            "5/5 [==============================] - 0s 21ms/step - loss: -13.7599 - accuracy: 0.7613 - val_loss: -13.6274 - val_accuracy: 0.6800\n",
            "Epoch 403/500\n",
            "5/5 [==============================] - 0s 21ms/step - loss: -13.7632 - accuracy: 0.7793 - val_loss: -13.6300 - val_accuracy: 0.8533\n",
            "Epoch 404/500\n",
            "5/5 [==============================] - 0s 19ms/step - loss: -13.7669 - accuracy: 0.7568 - val_loss: -13.6350 - val_accuracy: 0.8533\n",
            "Epoch 405/500\n",
            "5/5 [==============================] - 0s 20ms/step - loss: -13.7702 - accuracy: 0.7748 - val_loss: -13.6376 - val_accuracy: 0.8533\n",
            "Epoch 406/500\n",
            "5/5 [==============================] - 0s 20ms/step - loss: -13.7736 - accuracy: 0.7523 - val_loss: -13.6430 - val_accuracy: 0.8533\n",
            "Epoch 407/500\n",
            "5/5 [==============================] - 0s 20ms/step - loss: -13.7760 - accuracy: 0.8108 - val_loss: -13.6472 - val_accuracy: 0.6800\n",
            "Epoch 408/500\n",
            "5/5 [==============================] - 0s 22ms/step - loss: -13.7804 - accuracy: 0.7387 - val_loss: -13.6500 - val_accuracy: 0.8533\n",
            "Epoch 409/500\n",
            "5/5 [==============================] - 0s 22ms/step - loss: -13.7823 - accuracy: 0.7928 - val_loss: -13.6517 - val_accuracy: 0.6667\n",
            "Epoch 410/500\n",
            "5/5 [==============================] - 0s 21ms/step - loss: -13.7863 - accuracy: 0.7568 - val_loss: -13.6541 - val_accuracy: 0.8533\n",
            "Epoch 411/500\n",
            "5/5 [==============================] - 0s 19ms/step - loss: -13.7899 - accuracy: 0.8018 - val_loss: -13.6592 - val_accuracy: 0.6667\n",
            "Epoch 412/500\n",
            "5/5 [==============================] - 0s 21ms/step - loss: -13.7928 - accuracy: 0.7117 - val_loss: -13.6554 - val_accuracy: 0.8533\n",
            "Epoch 413/500\n",
            "5/5 [==============================] - 0s 19ms/step - loss: -13.7961 - accuracy: 0.8198 - val_loss: -13.6596 - val_accuracy: 0.6800\n",
            "Epoch 414/500\n",
            "5/5 [==============================] - 0s 20ms/step - loss: -13.8001 - accuracy: 0.7387 - val_loss: -13.6622 - val_accuracy: 0.6933\n",
            "Epoch 415/500\n",
            "5/5 [==============================] - 0s 21ms/step - loss: -13.8042 - accuracy: 0.7658 - val_loss: -13.6657 - val_accuracy: 0.6933\n",
            "Epoch 416/500\n",
            "5/5 [==============================] - 0s 20ms/step - loss: -13.8075 - accuracy: 0.7252 - val_loss: -13.6708 - val_accuracy: 0.8533\n",
            "Epoch 417/500\n",
            "5/5 [==============================] - 0s 20ms/step - loss: -13.8104 - accuracy: 0.8198 - val_loss: -13.6737 - val_accuracy: 0.6800\n",
            "Epoch 418/500\n",
            "5/5 [==============================] - 0s 21ms/step - loss: -13.8145 - accuracy: 0.7523 - val_loss: -13.6793 - val_accuracy: 0.8533\n",
            "Epoch 419/500\n",
            "5/5 [==============================] - 0s 20ms/step - loss: -13.8179 - accuracy: 0.7613 - val_loss: -13.6808 - val_accuracy: 0.8533\n",
            "Epoch 420/500\n",
            "5/5 [==============================] - 0s 21ms/step - loss: -13.8211 - accuracy: 0.8018 - val_loss: -13.6839 - val_accuracy: 0.8533\n",
            "Epoch 421/500\n",
            "5/5 [==============================] - 0s 19ms/step - loss: -13.8241 - accuracy: 0.8108 - val_loss: -13.6859 - val_accuracy: 0.7467\n",
            "Epoch 422/500\n",
            "5/5 [==============================] - 0s 19ms/step - loss: -13.8281 - accuracy: 0.6892 - val_loss: -13.6900 - val_accuracy: 0.8533\n",
            "Epoch 423/500\n",
            "5/5 [==============================] - 0s 20ms/step - loss: -13.8312 - accuracy: 0.8153 - val_loss: -13.6895 - val_accuracy: 0.6933\n",
            "Epoch 424/500\n",
            "5/5 [==============================] - 0s 22ms/step - loss: -13.8351 - accuracy: 0.7027 - val_loss: -13.6930 - val_accuracy: 0.8533\n",
            "Epoch 425/500\n",
            "5/5 [==============================] - 0s 20ms/step - loss: -13.8385 - accuracy: 0.7928 - val_loss: -13.6924 - val_accuracy: 0.8533\n",
            "Epoch 426/500\n",
            "5/5 [==============================] - 0s 21ms/step - loss: -13.8428 - accuracy: 0.8198 - val_loss: -13.6969 - val_accuracy: 0.6667\n",
            "Epoch 427/500\n",
            "5/5 [==============================] - 0s 23ms/step - loss: -13.8465 - accuracy: 0.7252 - val_loss: -13.6993 - val_accuracy: 0.8533\n",
            "Epoch 428/500\n",
            "5/5 [==============================] - 0s 20ms/step - loss: -13.8495 - accuracy: 0.8153 - val_loss: -13.7033 - val_accuracy: 0.6933\n",
            "Epoch 429/500\n",
            "5/5 [==============================] - 0s 20ms/step - loss: -13.8527 - accuracy: 0.7117 - val_loss: -13.7052 - val_accuracy: 0.8533\n",
            "Epoch 430/500\n",
            "5/5 [==============================] - 0s 20ms/step - loss: -13.8563 - accuracy: 0.7883 - val_loss: -13.7096 - val_accuracy: 0.8533\n",
            "Epoch 431/500\n",
            "5/5 [==============================] - 0s 21ms/step - loss: -13.8590 - accuracy: 0.7883 - val_loss: -13.7122 - val_accuracy: 0.8533\n",
            "Epoch 432/500\n",
            "5/5 [==============================] - 0s 19ms/step - loss: -13.8629 - accuracy: 0.8153 - val_loss: -13.7159 - val_accuracy: 0.8533\n",
            "Epoch 433/500\n",
            "5/5 [==============================] - 0s 19ms/step - loss: -13.8669 - accuracy: 0.7207 - val_loss: -13.7202 - val_accuracy: 0.8533\n",
            "Epoch 434/500\n",
            "5/5 [==============================] - 0s 19ms/step - loss: -13.8703 - accuracy: 0.8153 - val_loss: -13.7264 - val_accuracy: 0.6800\n",
            "Epoch 435/500\n",
            "5/5 [==============================] - 0s 22ms/step - loss: -13.8740 - accuracy: 0.7252 - val_loss: -13.7260 - val_accuracy: 0.8533\n",
            "Epoch 436/500\n",
            "5/5 [==============================] - 0s 20ms/step - loss: -13.8776 - accuracy: 0.8153 - val_loss: -13.7357 - val_accuracy: 0.6800\n",
            "Epoch 437/500\n",
            "5/5 [==============================] - 0s 21ms/step - loss: -13.8814 - accuracy: 0.7252 - val_loss: -13.7334 - val_accuracy: 0.8533\n",
            "Epoch 438/500\n",
            "5/5 [==============================] - 0s 20ms/step - loss: -13.8849 - accuracy: 0.8108 - val_loss: -13.7432 - val_accuracy: 0.6800\n",
            "Epoch 439/500\n",
            "5/5 [==============================] - 0s 19ms/step - loss: -13.8886 - accuracy: 0.7342 - val_loss: -13.7434 - val_accuracy: 0.6933\n",
            "Epoch 440/500\n",
            "5/5 [==============================] - 0s 20ms/step - loss: -13.8926 - accuracy: 0.7883 - val_loss: -13.7520 - val_accuracy: 0.8533\n",
            "Epoch 441/500\n",
            "5/5 [==============================] - 0s 20ms/step - loss: -13.8966 - accuracy: 0.8153 - val_loss: -13.7532 - val_accuracy: 0.6800\n",
            "Epoch 442/500\n",
            "5/5 [==============================] - 0s 20ms/step - loss: -13.9006 - accuracy: 0.7117 - val_loss: -13.7607 - val_accuracy: 0.8533\n",
            "Epoch 443/500\n",
            "5/5 [==============================] - 0s 19ms/step - loss: -13.9044 - accuracy: 0.8153 - val_loss: -13.7606 - val_accuracy: 0.8533\n",
            "Epoch 444/500\n",
            "5/5 [==============================] - 0s 20ms/step - loss: -13.9083 - accuracy: 0.7162 - val_loss: -13.7657 - val_accuracy: 0.8533\n",
            "Epoch 445/500\n",
            "5/5 [==============================] - 0s 20ms/step - loss: -13.9118 - accuracy: 0.8153 - val_loss: -13.7664 - val_accuracy: 0.8533\n",
            "Epoch 446/500\n",
            "5/5 [==============================] - 0s 45ms/step - loss: -13.9163 - accuracy: 0.8018 - val_loss: -13.7712 - val_accuracy: 0.6933\n",
            "Epoch 447/500\n",
            "5/5 [==============================] - 0s 19ms/step - loss: -13.9209 - accuracy: 0.7658 - val_loss: -13.7748 - val_accuracy: 0.6800\n",
            "Epoch 448/500\n",
            "5/5 [==============================] - 0s 19ms/step - loss: -13.9252 - accuracy: 0.7928 - val_loss: -13.7828 - val_accuracy: 0.8533\n",
            "Epoch 449/500\n",
            "5/5 [==============================] - 0s 19ms/step - loss: -13.9282 - accuracy: 0.7613 - val_loss: -13.7861 - val_accuracy: 0.2000\n",
            "Epoch 450/500\n",
            "5/5 [==============================] - 0s 19ms/step - loss: -13.9323 - accuracy: 0.7072 - val_loss: -13.7953 - val_accuracy: 0.6667\n",
            "Epoch 451/500\n",
            "5/5 [==============================] - 0s 19ms/step - loss: -13.9368 - accuracy: 0.6847 - val_loss: -13.8003 - val_accuracy: 0.8533\n",
            "Epoch 452/500\n",
            "5/5 [==============================] - 0s 19ms/step - loss: -13.9410 - accuracy: 0.8108 - val_loss: -13.7970 - val_accuracy: 0.8533\n",
            "Epoch 453/500\n",
            "5/5 [==============================] - 0s 20ms/step - loss: -13.9453 - accuracy: 0.8198 - val_loss: -13.8100 - val_accuracy: 0.8533\n",
            "Epoch 454/500\n",
            "5/5 [==============================] - 0s 20ms/step - loss: -13.9502 - accuracy: 0.7703 - val_loss: -13.8142 - val_accuracy: 0.6667\n",
            "Epoch 455/500\n",
            "5/5 [==============================] - 0s 19ms/step - loss: -13.9536 - accuracy: 0.7072 - val_loss: -13.8143 - val_accuracy: 0.8533\n",
            "Epoch 456/500\n",
            "5/5 [==============================] - 0s 19ms/step - loss: -13.9578 - accuracy: 0.8063 - val_loss: -13.8180 - val_accuracy: 0.8533\n",
            "Epoch 457/500\n",
            "5/5 [==============================] - 0s 20ms/step - loss: -13.9610 - accuracy: 0.8108 - val_loss: -13.8240 - val_accuracy: 0.6800\n",
            "Epoch 458/500\n",
            "5/5 [==============================] - 0s 22ms/step - loss: -13.9659 - accuracy: 0.7162 - val_loss: -13.8257 - val_accuracy: 0.8400\n",
            "Epoch 459/500\n",
            "5/5 [==============================] - 0s 19ms/step - loss: -13.9709 - accuracy: 0.7252 - val_loss: -13.8338 - val_accuracy: 0.8533\n",
            "Epoch 460/500\n",
            "5/5 [==============================] - 0s 19ms/step - loss: -13.9660 - accuracy: 0.7568 - val_loss: -13.8383 - val_accuracy: 0.8533\n",
            "Epoch 461/500\n",
            "5/5 [==============================] - 0s 20ms/step - loss: -13.9759 - accuracy: 0.7568 - val_loss: -13.8375 - val_accuracy: 0.6933\n",
            "Epoch 462/500\n",
            "5/5 [==============================] - 0s 19ms/step - loss: -13.9788 - accuracy: 0.7387 - val_loss: -13.8416 - val_accuracy: 0.8667\n",
            "Epoch 463/500\n",
            "5/5 [==============================] - 0s 19ms/step - loss: -13.9819 - accuracy: 0.8153 - val_loss: -13.8462 - val_accuracy: 0.8667\n",
            "Epoch 464/500\n",
            "5/5 [==============================] - 0s 20ms/step - loss: -13.9872 - accuracy: 0.8153 - val_loss: -13.8493 - val_accuracy: 0.8667\n",
            "Epoch 465/500\n",
            "5/5 [==============================] - 0s 20ms/step - loss: -13.9918 - accuracy: 0.8153 - val_loss: -13.8565 - val_accuracy: 0.7067\n",
            "Epoch 466/500\n",
            "5/5 [==============================] - 0s 19ms/step - loss: -13.9957 - accuracy: 0.7117 - val_loss: -13.8595 - val_accuracy: 0.7333\n",
            "Epoch 467/500\n",
            "5/5 [==============================] - 0s 19ms/step - loss: -13.9987 - accuracy: 0.8108 - val_loss: -13.8636 - val_accuracy: 0.8667\n",
            "Epoch 468/500\n",
            "5/5 [==============================] - 0s 20ms/step - loss: -14.0017 - accuracy: 0.8153 - val_loss: -13.8679 - val_accuracy: 0.6933\n",
            "Epoch 469/500\n",
            "5/5 [==============================] - 0s 20ms/step - loss: -14.0076 - accuracy: 0.7027 - val_loss: -13.8696 - val_accuracy: 0.8533\n",
            "Epoch 470/500\n",
            "5/5 [==============================] - 0s 23ms/step - loss: -14.0116 - accuracy: 0.8018 - val_loss: -13.8791 - val_accuracy: 0.8533\n",
            "Epoch 471/500\n",
            "5/5 [==============================] - 0s 19ms/step - loss: -14.0159 - accuracy: 0.7883 - val_loss: -13.8847 - val_accuracy: 0.6933\n",
            "Epoch 472/500\n",
            "5/5 [==============================] - 0s 19ms/step - loss: -14.0198 - accuracy: 0.7342 - val_loss: -13.8866 - val_accuracy: 0.8533\n",
            "Epoch 473/500\n",
            "5/5 [==============================] - 0s 20ms/step - loss: -14.0235 - accuracy: 0.7387 - val_loss: -13.8923 - val_accuracy: 0.6933\n",
            "Epoch 474/500\n",
            "5/5 [==============================] - 0s 20ms/step - loss: -14.0273 - accuracy: 0.7883 - val_loss: -13.8937 - val_accuracy: 0.8533\n",
            "Epoch 475/500\n",
            "5/5 [==============================] - 0s 19ms/step - loss: -14.0310 - accuracy: 0.7477 - val_loss: -13.8989 - val_accuracy: 0.8533\n",
            "Epoch 476/500\n",
            "5/5 [==============================] - 0s 19ms/step - loss: -14.0353 - accuracy: 0.8243 - val_loss: -13.9024 - val_accuracy: 0.8533\n",
            "Epoch 477/500\n",
            "5/5 [==============================] - 0s 19ms/step - loss: -14.0387 - accuracy: 0.8063 - val_loss: -13.9073 - val_accuracy: 0.6933\n",
            "Epoch 478/500\n",
            "5/5 [==============================] - 0s 20ms/step - loss: -14.0429 - accuracy: 0.7432 - val_loss: -13.9115 - val_accuracy: 0.8533\n",
            "Epoch 479/500\n",
            "5/5 [==============================] - 0s 25ms/step - loss: -14.0468 - accuracy: 0.7658 - val_loss: -13.9155 - val_accuracy: 0.8533\n",
            "Epoch 480/500\n",
            "5/5 [==============================] - 0s 20ms/step - loss: -14.0501 - accuracy: 0.8063 - val_loss: -13.9198 - val_accuracy: 0.8533\n",
            "Epoch 481/500\n",
            "5/5 [==============================] - 0s 21ms/step - loss: -14.0544 - accuracy: 0.7568 - val_loss: -13.9231 - val_accuracy: 0.8400\n",
            "Epoch 482/500\n",
            "5/5 [==============================] - 0s 20ms/step - loss: -14.0581 - accuracy: 0.7703 - val_loss: -13.9261 - val_accuracy: 0.7067\n",
            "Epoch 483/500\n",
            "5/5 [==============================] - 0s 19ms/step - loss: -14.0618 - accuracy: 0.7432 - val_loss: -13.9289 - val_accuracy: 0.8667\n",
            "Epoch 484/500\n",
            "5/5 [==============================] - 0s 19ms/step - loss: -14.0648 - accuracy: 0.7973 - val_loss: -13.9345 - val_accuracy: 0.7333\n",
            "Epoch 485/500\n",
            "5/5 [==============================] - 0s 20ms/step - loss: -14.0688 - accuracy: 0.8153 - val_loss: -13.9373 - val_accuracy: 0.8667\n",
            "Epoch 486/500\n",
            "5/5 [==============================] - 0s 20ms/step - loss: -14.0728 - accuracy: 0.7838 - val_loss: -13.9402 - val_accuracy: 0.7067\n",
            "Epoch 487/500\n",
            "5/5 [==============================] - 0s 19ms/step - loss: -14.0761 - accuracy: 0.8018 - val_loss: -13.9430 - val_accuracy: 0.8667\n",
            "Epoch 488/500\n",
            "5/5 [==============================] - 0s 20ms/step - loss: -14.0804 - accuracy: 0.7523 - val_loss: -13.9476 - val_accuracy: 0.8667\n",
            "Epoch 489/500\n",
            "5/5 [==============================] - 0s 20ms/step - loss: -14.0839 - accuracy: 0.8288 - val_loss: -13.9502 - val_accuracy: 0.8667\n",
            "Epoch 490/500\n",
            "5/5 [==============================] - 0s 20ms/step - loss: -14.0876 - accuracy: 0.7883 - val_loss: -13.9556 - val_accuracy: 0.8000\n",
            "Epoch 491/500\n",
            "5/5 [==============================] - 0s 19ms/step - loss: -14.0916 - accuracy: 0.8063 - val_loss: -13.9569 - val_accuracy: 0.8533\n",
            "Epoch 492/500\n",
            "5/5 [==============================] - 0s 22ms/step - loss: -14.0957 - accuracy: 0.8288 - val_loss: -13.9611 - val_accuracy: 0.8533\n",
            "Epoch 493/500\n",
            "5/5 [==============================] - 0s 19ms/step - loss: -14.1001 - accuracy: 0.8198 - val_loss: -13.9638 - val_accuracy: 0.8533\n",
            "Epoch 494/500\n",
            "5/5 [==============================] - 0s 20ms/step - loss: -14.1044 - accuracy: 0.8288 - val_loss: -13.9705 - val_accuracy: 0.6667\n",
            "Epoch 495/500\n",
            "5/5 [==============================] - 0s 19ms/step - loss: -14.1075 - accuracy: 0.7432 - val_loss: -13.9752 - val_accuracy: 0.8533\n",
            "Epoch 496/500\n",
            "5/5 [==============================] - 0s 20ms/step - loss: -14.1115 - accuracy: 0.7658 - val_loss: -13.9813 - val_accuracy: 0.8533\n",
            "Epoch 497/500\n",
            "5/5 [==============================] - 0s 20ms/step - loss: -14.1155 - accuracy: 0.8243 - val_loss: -13.9872 - val_accuracy: 0.8533\n",
            "Epoch 498/500\n",
            "5/5 [==============================] - 0s 20ms/step - loss: -14.1187 - accuracy: 0.8108 - val_loss: -13.9925 - val_accuracy: 0.8533\n",
            "Epoch 499/500\n",
            "5/5 [==============================] - 0s 40ms/step - loss: -14.1231 - accuracy: 0.7928 - val_loss: -13.9974 - val_accuracy: 0.8533\n",
            "Epoch 500/500\n",
            "5/5 [==============================] - 0s 19ms/step - loss: -14.1267 - accuracy: 0.8243 - val_loss: -14.0032 - val_accuracy: 0.3867\n"
          ]
        }
      ],
      "source": [
        "with tf.device(\"/device:GPU:0\"):    # у версії TF-DML для 2.10 можна писати \"/device:GPU:0\" замість \"/device:DML:0\"\n",
        "    start_time = time.time()\n",
        "    autoencoder.fit(train_x, train_x,\n",
        "        epochs=500,\n",
        "        batch_size=50,\n",
        "        shuffle=True,\n",
        "        validation_data=(valid_x, valid_x))\n",
        "    end_time = time.time()\n",
        "    #end_time-start_time"
      ]
    },
    {
      "cell_type": "code",
      "execution_count": null,
      "metadata": {
        "id": "KNW9V8Ofi6sy"
      },
      "outputs": [],
      "source": [
        "# зауважте, що час виконання залежно від версії DirectML або типу обладнання може суттєво відрізнятися\n",
        "# також час виконання на першій ітерації під відеокартою зазвичай вищий, ніж на наступних"
      ]
    },
    {
      "cell_type": "code",
      "execution_count": null,
      "metadata": {
        "id": "qIcf1PKQi6sy",
        "outputId": "14465e40-8dca-4d57-a030-5be2ba4573e7"
      },
      "outputs": [
        {
          "name": "stdout",
          "output_type": "stream",
          "text": [
            "1/1 [==============================] - 0s 90ms/step\n"
          ]
        },
        {
          "data": {
            "image/png": "[encoded data removed]",
            "text/plain": [
              "<Figure size 600x600 with 2 Axes>"
            ]
          },
          "metadata": {},
          "output_type": "display_data"
        },
        {
          "name": "stdout",
          "output_type": "stream",
          "text": [
            "1/1 [==============================] - 0s 29ms/step\n"
          ]
        },
        {
          "data": {
            "image/png": "[encoded data removed]",
            "text/plain": [
              "<Figure size 600x600 with 2 Axes>"
            ]
          },
          "metadata": {},
          "output_type": "display_data"
        }
      ],
      "source": [
        "#Because latent space is two-dimensional, there are a few visualizations that can be done at this point.\n",
        "#One is to look at the neighborhoods of different classes on the latent 2D plane:\n",
        "colors = np.array(list(islice(cycle(['#377eb8', '#ff7f00', '#4daf4a',\n",
        "                                             '#f781bf', '#a65628', '#984ea3',\n",
        "                                             '#999999', '#e41a1c', '#dede00']), int(max(valid_y) + 1))))\n",
        "\n",
        "start_time = time.time()\n",
        "x_train_encoded = encoder.predict(train_x, batch_size=500)\n",
        "plt.figure(figsize=(6, 6))\n",
        "plt.scatter(x_train_encoded[:, 0], x_train_encoded[:, 1], c = colors[train_y])\n",
        "plt.colorbar()\n",
        "plt.show()\n",
        "\n",
        "x_test_encoded = encoder.predict(valid_x, batch_size=500)\n",
        "plt.figure(figsize=(6, 6))\n",
        "plt.scatter(x_test_encoded[:, 0], x_test_encoded[:, 1], c = colors[valid_y])\n",
        "plt.colorbar()\n",
        "plt.show()\n",
        "end_time = time.time()"
      ]
    },
    {
      "cell_type": "code",
      "execution_count": null,
      "metadata": {
        "id": "TQCFdOyli6sy",
        "outputId": "2ed78c02-a5ac-42b0-fcfa-eeeb86dd02ff"
      },
      "outputs": [
        {
          "data": {
            "text/plain": [
              "0.002002239227294922"
            ]
          },
          "execution_count": 106,
          "metadata": {},
          "output_type": "execute_result"
        }
      ],
      "source": [
        "start_time = time.time()\n",
        "train_x, valid_x, train_y, valid_y = model_selection.train_test_split(ab, y_pred)\n",
        "end_time = time.time()\n",
        "end_time-start_time"
      ]
    },
    {
      "cell_type": "code",
      "execution_count": null,
      "metadata": {
        "id": "8jMhMQ6oi6sz",
        "outputId": "e16331e0-bfc4-400b-80cc-36987b49b655"
      },
      "outputs": [
        {
          "data": {
            "text/plain": [
              "0.0029916763305664062"
            ]
          },
          "execution_count": 109,
          "metadata": {},
          "output_type": "execute_result"
        }
      ],
      "source": [
        "from sklearn.datasets import make_classification\n",
        "from imblearn.over_sampling import RandomOverSampler\n",
        "start_time = time.time()\n",
        "ros = RandomOverSampler(random_state=0)\n",
        "X_resampled, y_resampled = ros.fit_resample(X_embedded, y_pred)\n",
        "end_time = time.time()\n",
        "end_time-start_time"
      ]
    },
    {
      "cell_type": "code",
      "execution_count": null,
      "metadata": {
        "id": "EodRtNS7i6sz"
      },
      "outputs": [],
      "source": []
    },
    {
      "cell_type": "code",
      "execution_count": null,
      "metadata": {
        "id": "fPElk0uZi6sz",
        "outputId": "5b7ac599-226c-4874-ebb8-cfe838935976"
      },
      "outputs": [
        {
          "data": {
            "image/png": "[encoded data removed]",
            "text/plain": [
              "<Figure size 600x600 with 2 Axes>"
            ]
          },
          "metadata": {},
          "output_type": "display_data"
        },
        {
          "data": {
            "image/png": "[encoded data removed]",
            "text/plain": [
              "<Figure size 600x600 with 2 Axes>"
            ]
          },
          "metadata": {},
          "output_type": "display_data"
        }
      ],
      "source": [
        "colors = np.array(list(islice(cycle(['#377eb8', '#ff7f00', '#4daf4a',\n",
        "                                             '#f781bf', '#a65628', '#984ea3',\n",
        "                                             '#999999', '#e41a1c', '#dede00']), int(max(y_pred) + 1))))\n",
        "\n",
        "plt.figure(figsize=(6, 6))\n",
        "plt.scatter(X_embedded[:, 0], X_embedded[:, 1], s=2, c=colors[y_pred])\n",
        "plt.colorbar()\n",
        "plt.show()\n",
        "\n",
        "plt.figure(figsize=(6, 6))\n",
        "plt.scatter(X_resampled[:, 0], X_resampled[:, 1], s=2, c=colors[y_resampled])\n",
        "plt.colorbar()\n",
        "plt.show()"
      ]
    },
    {
      "cell_type": "code",
      "execution_count": null,
      "metadata": {
        "id": "JlrB6Afli6sz"
      },
      "outputs": [],
      "source": [
        "train_x, valid_x, train_y, valid_y = model_selection.train_test_split(X_resampled, y_resampled)"
      ]
    },
    {
      "cell_type": "code",
      "execution_count": null,
      "metadata": {
        "id": "bKYov9sdi6s5"
      },
      "outputs": [],
      "source": [
        "#X_resampled, y_resampled = ros.fit_resample(X_embedded, y_pred)"
      ]
    },
    {
      "cell_type": "code",
      "execution_count": null,
      "metadata": {
        "id": "RkoTrBRki6s5",
        "outputId": "afbb9fdb-5eee-4285-aaca-6feca080335b"
      },
      "outputs": [
        {
          "data": {
            "text/plain": [
              "0.007536888122558594"
            ]
          },
          "execution_count": 115,
          "metadata": {},
          "output_type": "execute_result"
        }
      ],
      "source": [
        "from imblearn.over_sampling import SMOTE, ADASYN\n",
        "start_time = time.time()\n",
        "X_resampled2, y_resampled2 = SMOTE().fit_resample(X_embedded, y_pred)\n",
        "#print(sorted(Counter(y_resampled).items()))\n",
        "end_time = time.time()\n",
        "end_time-start_time"
      ]
    },
    {
      "cell_type": "code",
      "execution_count": null,
      "metadata": {
        "id": "f_BY8Rt2i6s6",
        "outputId": "0a56b3ad-73ed-4906-bee3-2b58572dd54b"
      },
      "outputs": [
        {
          "name": "stderr",
          "output_type": "stream",
          "text": [
            "D:\\anaconda3\\envs\\tfdml\\lib\\site-packages\\sklearn\\svm\\_classes.py:31: FutureWarning: The default value of `dual` will change from `True` to `'auto'` in 1.5. Set the value of `dual` explicitly to suppress the warning.\n",
            "  warnings.warn(\n",
            "D:\\anaconda3\\envs\\tfdml\\lib\\site-packages\\sklearn\\svm\\_base.py:1237: ConvergenceWarning: Liblinear failed to converge, increase the number of iterations.\n",
            "  warnings.warn(\n"
          ]
        },
        {
          "data": {
            "text/plain": [
              "0.014511346817016602"
            ]
          },
          "execution_count": 116,
          "metadata": {},
          "output_type": "execute_result"
        }
      ],
      "source": [
        "start_time = time.time()\n",
        "clf_smote = LinearSVC().fit(X_resampled2, y_resampled2)\n",
        "end_time = time.time()\n",
        "end_time-start_time"
      ]
    },
    {
      "cell_type": "code",
      "execution_count": null,
      "metadata": {
        "id": "ERTu4xeIi6s6",
        "outputId": "c0a32a1a-69fa-4ce1-e8e1-abb706ad8f9a"
      },
      "outputs": [
        {
          "data": {
            "text/plain": [
              "0.012006044387817383"
            ]
          },
          "execution_count": 117,
          "metadata": {},
          "output_type": "execute_result"
        }
      ],
      "source": [
        "start_time = time.time()\n",
        "X_resampled3, y_resampled3 = ADASYN().fit_resample(X_embedded, y_pred)\n",
        "#print(sorted(Counter(y_resampled).items()))\n",
        "end_time = time.time()\n",
        "end_time-start_time"
      ]
    },
    {
      "cell_type": "code",
      "execution_count": null,
      "metadata": {
        "id": "57u-cmW6i6s6",
        "outputId": "6a345c6a-3fd1-4c93-9ab5-9e5fba9f4f0d"
      },
      "outputs": [
        {
          "name": "stderr",
          "output_type": "stream",
          "text": [
            "D:\\anaconda3\\envs\\tfdml\\lib\\site-packages\\sklearn\\svm\\_classes.py:31: FutureWarning: The default value of `dual` will change from `True` to `'auto'` in 1.5. Set the value of `dual` explicitly to suppress the warning.\n",
            "  warnings.warn(\n",
            "D:\\anaconda3\\envs\\tfdml\\lib\\site-packages\\sklearn\\svm\\_base.py:1237: ConvergenceWarning: Liblinear failed to converge, increase the number of iterations.\n",
            "  warnings.warn(\n"
          ]
        },
        {
          "data": {
            "text/plain": [
              "0.01600337028503418"
            ]
          },
          "execution_count": 118,
          "metadata": {},
          "output_type": "execute_result"
        }
      ],
      "source": [
        "start_time = time.time()\n",
        "clf_adasyn = LinearSVC().fit(X_resampled3, y_resampled3)\n",
        "end_time = time.time()\n",
        "end_time-start_time"
      ]
    },
    {
      "cell_type": "code",
      "execution_count": null,
      "metadata": {
        "id": "H30Rk0G1i6s7",
        "outputId": "57251a5b-4fb2-4a96-e536-ed901ae2100c"
      },
      "outputs": [
        {
          "data": {
            "image/png": "[encoded data removed]",
            "text/plain": [
              "<Figure size 600x600 with 2 Axes>"
            ]
          },
          "metadata": {},
          "output_type": "display_data"
        },
        {
          "data": {
            "image/png": "[encoded data removed]",
            "text/plain": [
              "<Figure size 600x600 with 2 Axes>"
            ]
          },
          "metadata": {},
          "output_type": "display_data"
        },
        {
          "data": {
            "image/png": "[encoded data removed]",
            "text/plain": [
              "<Figure size 600x600 with 2 Axes>"
            ]
          },
          "metadata": {},
          "output_type": "display_data"
        }
      ],
      "source": [
        "plt.figure(figsize=(6, 6))\n",
        "plt.scatter(X_resampled[:, 0], X_resampled[:, 1], s=2, c=colors[y_resampled])\n",
        "plt.colorbar()\n",
        "plt.show()\n",
        "\n",
        "plt.figure(figsize=(6, 6))\n",
        "plt.scatter(X_resampled2[:, 0], X_resampled2[:, 1], s=2, c=colors[y_resampled2])\n",
        "plt.colorbar()\n",
        "plt.show()\n",
        "\n",
        "plt.figure(figsize=(6, 6))\n",
        "plt.scatter(X_resampled3[:, 0], X_resampled3[:, 1], s=2, c=colors[y_resampled3])\n",
        "plt.colorbar()\n",
        "plt.show()"
      ]
    },
    {
      "cell_type": "code",
      "execution_count": null,
      "metadata": {
        "id": "PdA165ORi6s7"
      },
      "outputs": [],
      "source": [
        "# stops here"
      ]
    }
  ],
  "metadata": {
    "kernelspec": {
      "display_name": "Python 3 (ipykernel)",
      "language": "python",
      "name": "python3"
    },
    "language_info": {
      "codemirror_mode": {
        "name": "ipython",
        "version": 3
      },
      "file_extension": ".py",
      "mimetype": "text/x-python",
      "name": "python",
      "nbconvert_exporter": "python",
      "pygments_lexer": "ipython3",
      "version": "3.9.18"
    },
    "varInspector": {
      "cols": {
        "lenName": 16,
        "lenType": 16,
        "lenVar": 40
      },
      "kernels_config": {
        "python": {
          "delete_cmd_postfix": "",
          "delete_cmd_prefix": "del ",
          "library": "var_list.py",
          "varRefreshCmd": "print(var_dic_list())"
        },
        "r": {
          "delete_cmd_postfix": ") ",
          "delete_cmd_prefix": "rm(",
          "library": "var_list.r",
          "varRefreshCmd": "cat(var_dic_list()) "
        }
      },
      "types_to_exclude": [
        "module",
        "function",
        "builtin_function_or_method",
        "instance",
        "_Feature"
      ],
      "window_display": false
    },
    "colab": {
      "provenance": []
    }
  },
  "nbformat": 4,
  "nbformat_minor": 0
}